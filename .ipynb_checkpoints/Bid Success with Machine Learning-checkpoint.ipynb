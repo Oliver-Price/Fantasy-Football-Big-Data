{
 "cells": [
  {
   "cell_type": "code",
   "execution_count": 63,
   "id": "stuck-tunnel",
   "metadata": {},
   "outputs": [],
   "source": [
    "import os\n",
    "import pandas as pd\n",
    "import matplotlib.pyplot as plt\n",
    "from scipy import stats\n",
    "from IPython.core.display import HTML\n",
    "import datetime\n",
    "import numpy as np\n",
    "import numpy.ma as ma\n",
    "import pickle\n",
    "import matplotlib.cm as cm"
   ]
  },
  {
   "cell_type": "markdown",
   "id": "organizational-information",
   "metadata": {},
   "source": [
    "# Load data in"
   ]
  },
  {
   "cell_type": "code",
   "execution_count": 70,
   "id": "recent-contact",
   "metadata": {},
   "outputs": [],
   "source": [
    "year = 19; w = 543 # w is the mid-season cutoff in stats table\n",
    "\n",
    "save = os.getcwd()\n",
    "save = os.path.join(save,\"save\")\n",
    "save = os.path.join(save,str(year))\n",
    "\n",
    "save_bids = os.path.join(save,'allbids.pickle')\n",
    "\n",
    "with open(save_bids, 'rb') as f:\n",
    "    df_bids = pickle.load(f)\n",
    "    \n",
    "df_bids['Player'] = df_bids['Player'].str.strip()\n",
    "df_bids['Level'] = df_bids['Level'].astype(int)\n",
    "df_bids['Round'] = df_bids['Round'].astype(int)\n",
    "df_bids['Success'] = df_bids['Success'].astype(bool)\n",
    "    \n",
    "save_stats = os.path.join(save,'df.pickle')\n",
    "\n",
    "with open(save_stats, 'rb') as f:\n",
    "    df_stats = pickle.load(f)"
   ]
  },
  {
   "cell_type": "markdown",
   "id": "modified-partner",
   "metadata": {},
   "source": [
    "# Prepare for ML"
   ]
  },
  {
   "cell_type": "code",
   "execution_count": 71,
   "id": "vietnamese-sandwich",
   "metadata": {},
   "outputs": [],
   "source": [
    "#add points last season to bids table by mapping player names using stats table\n",
    "points_last_list = df_stats['Points Last Season'].fillna(0).tolist()\n",
    "name_list = df_stats['Name'].tolist()\n",
    "name_to_points_last = dict(zip(name_list,points_last_list))\n",
    "df_bids['Points Last Season'] = df_bids['Player'].map(name_to_points_last)"
   ]
  },
  {
   "cell_type": "code",
   "execution_count": 72,
   "id": "alternate-rebecca",
   "metadata": {},
   "outputs": [],
   "source": [
    "club_list = df_stats['club'].fillna(0).tolist()\n",
    "name_list = df_stats['Name'].tolist()\n",
    "name_to_club_last = dict(zip(name_list,club_list))\n",
    "df_bids['Club'] = df_bids['Player'].map(name_to_club_last)"
   ]
  },
  {
   "cell_type": "code",
   "execution_count": 73,
   "id": "diverse-spare",
   "metadata": {},
   "outputs": [
    {
     "data": {
      "text/html": [
       "<div>\n",
       "<style scoped>\n",
       "    .dataframe tbody tr th:only-of-type {\n",
       "        vertical-align: middle;\n",
       "    }\n",
       "\n",
       "    .dataframe tbody tr th {\n",
       "        vertical-align: top;\n",
       "    }\n",
       "\n",
       "    .dataframe thead th {\n",
       "        text-align: right;\n",
       "    }\n",
       "</style>\n",
       "<table border=\"1\" class=\"dataframe\">\n",
       "  <thead>\n",
       "    <tr style=\"text-align: right;\">\n",
       "      <th></th>\n",
       "      <th>Division</th>\n",
       "      <th>Level</th>\n",
       "      <th>Round</th>\n",
       "      <th>Player</th>\n",
       "      <th>Manager</th>\n",
       "      <th>Team</th>\n",
       "      <th>Position</th>\n",
       "      <th>Amount</th>\n",
       "      <th>Success</th>\n",
       "      <th>Points Last Season</th>\n",
       "      <th>Club</th>\n",
       "    </tr>\n",
       "  </thead>\n",
       "  <tbody>\n",
       "    <tr>\n",
       "      <th>0</th>\n",
       "      <td>1</td>\n",
       "      <td>1</td>\n",
       "      <td>1</td>\n",
       "      <td>Alisson</td>\n",
       "      <td>Owen Griffiths</td>\n",
       "      <td>Loko Bakayoko</td>\n",
       "      <td>Goalkeeper</td>\n",
       "      <td>0.0</td>\n",
       "      <td>True</td>\n",
       "      <td>96.0</td>\n",
       "      <td>Liverpool</td>\n",
       "    </tr>\n",
       "    <tr>\n",
       "      <th>1</th>\n",
       "      <td>1</td>\n",
       "      <td>1</td>\n",
       "      <td>1</td>\n",
       "      <td>Kepa Arrizabalaga</td>\n",
       "      <td>Andy Carr</td>\n",
       "      <td>Carr Trouble</td>\n",
       "      <td>Goalkeeper</td>\n",
       "      <td>7.5</td>\n",
       "      <td>True</td>\n",
       "      <td>0.0</td>\n",
       "      <td>Chelsea</td>\n",
       "    </tr>\n",
       "    <tr>\n",
       "      <th>2</th>\n",
       "      <td>1</td>\n",
       "      <td>1</td>\n",
       "      <td>1</td>\n",
       "      <td>Kepa Arrizabalaga</td>\n",
       "      <td>Matt Davis</td>\n",
       "      <td>Stand Up for the Champion</td>\n",
       "      <td>Goalkeeper</td>\n",
       "      <td>3.0</td>\n",
       "      <td>False</td>\n",
       "      <td>0.0</td>\n",
       "      <td>Chelsea</td>\n",
       "    </tr>\n",
       "    <tr>\n",
       "      <th>3</th>\n",
       "      <td>1</td>\n",
       "      <td>1</td>\n",
       "      <td>1</td>\n",
       "      <td>David de Gea</td>\n",
       "      <td>Dave Savery</td>\n",
       "      <td>SmokeCrack Mountain FC</td>\n",
       "      <td>Goalkeeper</td>\n",
       "      <td>7.0</td>\n",
       "      <td>True</td>\n",
       "      <td>36.0</td>\n",
       "      <td>Manchester Utd</td>\n",
       "    </tr>\n",
       "    <tr>\n",
       "      <th>4</th>\n",
       "      <td>1</td>\n",
       "      <td>1</td>\n",
       "      <td>1</td>\n",
       "      <td>Ederson</td>\n",
       "      <td>Alex Silverman</td>\n",
       "      <td>Vandelay Industries</td>\n",
       "      <td>Goalkeeper</td>\n",
       "      <td>21.0</td>\n",
       "      <td>True</td>\n",
       "      <td>95.0</td>\n",
       "      <td>Manchester City</td>\n",
       "    </tr>\n",
       "  </tbody>\n",
       "</table>\n",
       "</div>"
      ],
      "text/plain": [
       "  Division  Level  Round             Player         Manager  \\\n",
       "0        1      1      1            Alisson  Owen Griffiths   \n",
       "1        1      1      1  Kepa Arrizabalaga       Andy Carr   \n",
       "2        1      1      1  Kepa Arrizabalaga      Matt Davis   \n",
       "3        1      1      1       David de Gea     Dave Savery   \n",
       "4        1      1      1            Ederson  Alex Silverman   \n",
       "\n",
       "                        Team    Position  Amount  Success  Points Last Season  \\\n",
       "0              Loko Bakayoko  Goalkeeper     0.0     True                96.0   \n",
       "1               Carr Trouble  Goalkeeper     7.5     True                 0.0   \n",
       "2  Stand Up for the Champion  Goalkeeper     3.0    False                 0.0   \n",
       "3     SmokeCrack Mountain FC  Goalkeeper     7.0     True                36.0   \n",
       "4        Vandelay Industries  Goalkeeper    21.0     True                95.0   \n",
       "\n",
       "              Club  \n",
       "0        Liverpool  \n",
       "1          Chelsea  \n",
       "2          Chelsea  \n",
       "3   Manchester Utd  \n",
       "4  Manchester City  "
      ]
     },
     "execution_count": 73,
     "metadata": {},
     "output_type": "execute_result"
    }
   ],
   "source": [
    "df_bids.head()"
   ]
  },
  {
   "cell_type": "code",
   "execution_count": 107,
   "id": "genuine-delicious",
   "metadata": {},
   "outputs": [],
   "source": [
    "# generate one hot encoded values using get_dummies\n",
    "df_bids_ohe = pd.get_dummies(df_bids, columns=[\"Club\"], prefix=[\"Club_is\"] )\n",
    "df_bids_ohe = pd.get_dummies(df_bids_ohe, columns=[\"Position\"], prefix=[\"Position_is\"] )"
   ]
  },
  {
   "cell_type": "code",
   "execution_count": 111,
   "id": "stretch-license",
   "metadata": {},
   "outputs": [
    {
     "data": {
      "text/plain": [
       "Index(['Level', 'Round', 'Amount', 'Success', 'Points Last Season',\n",
       "       'Club_is_Arsenal', 'Club_is_Aston Villa', 'Club_is_Bournemouth',\n",
       "       'Club_is_Brighton & Hove Albion', 'Club_is_Burnley', 'Club_is_Chelsea',\n",
       "       'Club_is_Crystal Palace', 'Club_is_Everton', 'Club_is_Leicester City',\n",
       "       'Club_is_Liverpool', 'Club_is_Manchester City',\n",
       "       'Club_is_Manchester Utd', 'Club_is_Newcastle United',\n",
       "       'Club_is_Norwich City', 'Club_is_Sheffield United',\n",
       "       'Club_is_Southampton', 'Club_is_Tottenham', 'Club_is_Watford',\n",
       "       'Club_is_West Ham United', 'Club_is_Wolverhampton Wanderers',\n",
       "       'Position_is_Defender', 'Position_is_Forward', 'Position_is_Goalkeeper',\n",
       "       'Position_is_Midfielder'],\n",
       "      dtype='object')"
      ]
     },
     "execution_count": 111,
     "metadata": {},
     "output_type": "execute_result"
    }
   ],
   "source": [
    "df_bids_ohe = df_bids_ohe._get_numeric_data()\n",
    "df_bids_ohe.columns"
   ]
  },
  {
   "cell_type": "code",
   "execution_count": 122,
   "id": "searching-hollywood",
   "metadata": {},
   "outputs": [],
   "source": [
    "X_unscaled = df_bids_ohe.drop(columns='Success')\n",
    "y_data = df_bids_ohe['Success']"
   ]
  },
  {
   "cell_type": "code",
   "execution_count": 123,
   "id": "painful-malawi",
   "metadata": {},
   "outputs": [],
   "source": [
    "from sklearn.preprocessing import StandardScaler\n",
    "\n",
    "scaler = StandardScaler()\n",
    "X_data = scaler.fit_transform(X_unscaled)"
   ]
  },
  {
   "cell_type": "markdown",
   "id": "communist-accident",
   "metadata": {},
   "source": [
    "# Do some ML!"
   ]
  },
  {
   "cell_type": "markdown",
   "id": "sunset-entity",
   "metadata": {},
   "source": [
    "## knn classifier"
   ]
  },
  {
   "cell_type": "code",
   "execution_count": 131,
   "id": "hawaiian-interest",
   "metadata": {},
   "outputs": [],
   "source": [
    "from sklearn.model_selection import train_test_split\n",
    "from sklearn.neighbors import KNeighborsClassifier\n",
    "from sklearn.linear_model import LogisticRegression\n",
    "from sklearn.metrics import accuracy_score"
   ]
  },
  {
   "cell_type": "code",
   "execution_count": 132,
   "id": "alert-stand",
   "metadata": {},
   "outputs": [
    {
     "data": {
      "text/plain": [
       "0.6893455098934551"
      ]
     },
     "execution_count": 132,
     "metadata": {},
     "output_type": "execute_result"
    }
   ],
   "source": [
    "X_train, X_test, y_train, y_test = train_test_split(X_data, y_data, test_size=0.3)\n",
    "\n",
    "clf2 = KNeighborsClassifier()\n",
    "clf2.fit(X_train,y_train) \n",
    "\n",
    "y_preds2 = clf2.predict(X_test)  \n",
    "accuracy_score(y_test,y_preds2)"
   ]
  },
  {
   "cell_type": "code",
   "execution_count": 133,
   "id": "upper-wildlife",
   "metadata": {},
   "outputs": [
    {
     "data": {
      "text/plain": [
       "0.6537290715372908"
      ]
     },
     "execution_count": 133,
     "metadata": {},
     "output_type": "execute_result"
    }
   ],
   "source": [
    "X_train, X_test, y_train, y_test = train_test_split(X_data, y_data, test_size=0.3)\n",
    "\n",
    "clf2 = LogisticRegression()\n",
    "clf2.fit(X_train,y_train) \n",
    "\n",
    "y_preds2 = clf2.predict(X_test)  \n",
    "accuracy_score(y_test,y_preds2)"
   ]
  },
  {
   "cell_type": "markdown",
   "id": "multiple-enough",
   "metadata": {},
   "source": [
    "# Stupid approach - Guess all are failures"
   ]
  },
  {
   "cell_type": "code",
   "execution_count": 94,
   "id": "brutal-pressure",
   "metadata": {},
   "outputs": [
    {
     "data": {
      "text/plain": [
       "0.504292629463878"
      ]
     },
     "execution_count": 94,
     "metadata": {},
     "output_type": "execute_result"
    }
   ],
   "source": [
    "success_counts = df_bids['Success'].value_counts()\n",
    "success_counts[0]/success_counts.sum()"
   ]
  }
 ],
 "metadata": {
  "kernelspec": {
   "display_name": "Python 3",
   "language": "python",
   "name": "python3"
  },
  "language_info": {
   "codemirror_mode": {
    "name": "ipython",
    "version": 3
   },
   "file_extension": ".py",
   "mimetype": "text/x-python",
   "name": "python",
   "nbconvert_exporter": "python",
   "pygments_lexer": "ipython3",
   "version": "3.7.9"
  }
 },
 "nbformat": 4,
 "nbformat_minor": 5
}
