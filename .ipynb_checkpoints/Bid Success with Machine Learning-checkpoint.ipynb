{
 "cells": [
  {
   "cell_type": "code",
   "execution_count": 1,
   "id": "right-gazette",
   "metadata": {},
   "outputs": [],
   "source": [
    "import os\n",
    "import pandas as pd\n",
    "import matplotlib.pyplot as plt\n",
    "from scipy import stats\n",
    "from IPython.core.display import HTML\n",
    "import datetime\n",
    "import numpy as np\n",
    "import numpy.ma as ma\n",
    "import pickle\n",
    "import matplotlib.cm as cm"
   ]
  },
  {
   "cell_type": "markdown",
   "id": "common-jewelry",
   "metadata": {},
   "source": [
    "# Load data in"
   ]
  },
  {
   "cell_type": "code",
   "execution_count": 2,
   "id": "proud-shoulder",
   "metadata": {},
   "outputs": [],
   "source": [
    "year = 19; w = 543 # w is the mid-season cutoff in stats table\n",
    "\n",
    "save = os.getcwd()\n",
    "save = os.path.join(save,\"save\")\n",
    "save = os.path.join(save,str(year))\n",
    "\n",
    "save_bids = os.path.join(save,'allbids.pickle')\n",
    "\n",
    "with open(save_bids, 'rb') as f:\n",
    "    df_bids = pickle.load(f)\n",
    "    \n",
    "df_bids['Player'] = df_bids['Player'].str.strip()\n",
    "df_bids['Level'] = df_bids['Level'].astype(int)\n",
    "df_bids['Round'] = df_bids['Round'].astype(int)\n",
    "df_bids['Success'] = df_bids['Success'].astype(bool)\n",
    "    \n",
    "save_stats = os.path.join(save,'df.pickle')\n",
    "\n",
    "with open(save_stats, 'rb') as f:\n",
    "    df_stats = pickle.load(f)"
   ]
  },
  {
   "cell_type": "markdown",
   "id": "brutal-overview",
   "metadata": {},
   "source": [
    "# Prepare for ML"
   ]
  },
  {
   "cell_type": "code",
   "execution_count": 3,
   "id": "standing-collins",
   "metadata": {},
   "outputs": [],
   "source": [
    "#add points last season to bids table by mapping player names using stats table\n",
    "points_last_list = df_stats['Points Last Season'].fillna(0).tolist()\n",
    "name_list = df_stats['Name'].tolist()\n",
    "name_to_points_last = dict(zip(name_list,points_last_list))\n",
    "df_bids['Points Last Season'] = df_bids['Player'].map(name_to_points_last)"
   ]
  },
  {
   "cell_type": "code",
   "execution_count": 4,
   "id": "fallen-myrtle",
   "metadata": {},
   "outputs": [],
   "source": [
    "club_list = df_stats['club'].fillna(0).tolist()\n",
    "name_list = df_stats['Name'].tolist()\n",
    "name_to_club_last = dict(zip(name_list,club_list))\n",
    "df_bids['Club'] = df_bids['Player'].map(name_to_club_last)"
   ]
  },
  {
   "cell_type": "code",
   "execution_count": 5,
   "id": "sufficient-margin",
   "metadata": {},
   "outputs": [
    {
     "data": {
      "text/html": [
       "<div>\n",
       "<style scoped>\n",
       "    .dataframe tbody tr th:only-of-type {\n",
       "        vertical-align: middle;\n",
       "    }\n",
       "\n",
       "    .dataframe tbody tr th {\n",
       "        vertical-align: top;\n",
       "    }\n",
       "\n",
       "    .dataframe thead th {\n",
       "        text-align: right;\n",
       "    }\n",
       "</style>\n",
       "<table border=\"1\" class=\"dataframe\">\n",
       "  <thead>\n",
       "    <tr style=\"text-align: right;\">\n",
       "      <th></th>\n",
       "      <th>Division</th>\n",
       "      <th>Level</th>\n",
       "      <th>Round</th>\n",
       "      <th>Player</th>\n",
       "      <th>Manager</th>\n",
       "      <th>Team</th>\n",
       "      <th>Position</th>\n",
       "      <th>Amount</th>\n",
       "      <th>Success</th>\n",
       "      <th>Points Last Season</th>\n",
       "      <th>Club</th>\n",
       "    </tr>\n",
       "  </thead>\n",
       "  <tbody>\n",
       "    <tr>\n",
       "      <th>0</th>\n",
       "      <td>1</td>\n",
       "      <td>1</td>\n",
       "      <td>1</td>\n",
       "      <td>Alisson</td>\n",
       "      <td>Owen Griffiths</td>\n",
       "      <td>Loko Bakayoko</td>\n",
       "      <td>Goalkeeper</td>\n",
       "      <td>0.0</td>\n",
       "      <td>True</td>\n",
       "      <td>96.0</td>\n",
       "      <td>Liverpool</td>\n",
       "    </tr>\n",
       "    <tr>\n",
       "      <th>1</th>\n",
       "      <td>1</td>\n",
       "      <td>1</td>\n",
       "      <td>1</td>\n",
       "      <td>Kepa Arrizabalaga</td>\n",
       "      <td>Andy Carr</td>\n",
       "      <td>Carr Trouble</td>\n",
       "      <td>Goalkeeper</td>\n",
       "      <td>7.5</td>\n",
       "      <td>True</td>\n",
       "      <td>0.0</td>\n",
       "      <td>Chelsea</td>\n",
       "    </tr>\n",
       "    <tr>\n",
       "      <th>2</th>\n",
       "      <td>1</td>\n",
       "      <td>1</td>\n",
       "      <td>1</td>\n",
       "      <td>Kepa Arrizabalaga</td>\n",
       "      <td>Matt Davis</td>\n",
       "      <td>Stand Up for the Champion</td>\n",
       "      <td>Goalkeeper</td>\n",
       "      <td>3.0</td>\n",
       "      <td>False</td>\n",
       "      <td>0.0</td>\n",
       "      <td>Chelsea</td>\n",
       "    </tr>\n",
       "    <tr>\n",
       "      <th>3</th>\n",
       "      <td>1</td>\n",
       "      <td>1</td>\n",
       "      <td>1</td>\n",
       "      <td>David de Gea</td>\n",
       "      <td>Dave Savery</td>\n",
       "      <td>SmokeCrack Mountain FC</td>\n",
       "      <td>Goalkeeper</td>\n",
       "      <td>7.0</td>\n",
       "      <td>True</td>\n",
       "      <td>36.0</td>\n",
       "      <td>Manchester Utd</td>\n",
       "    </tr>\n",
       "    <tr>\n",
       "      <th>4</th>\n",
       "      <td>1</td>\n",
       "      <td>1</td>\n",
       "      <td>1</td>\n",
       "      <td>Ederson</td>\n",
       "      <td>Alex Silverman</td>\n",
       "      <td>Vandelay Industries</td>\n",
       "      <td>Goalkeeper</td>\n",
       "      <td>21.0</td>\n",
       "      <td>True</td>\n",
       "      <td>95.0</td>\n",
       "      <td>Manchester City</td>\n",
       "    </tr>\n",
       "  </tbody>\n",
       "</table>\n",
       "</div>"
      ],
      "text/plain": [
       "  Division  Level  Round             Player         Manager  \\\n",
       "0        1      1      1            Alisson  Owen Griffiths   \n",
       "1        1      1      1  Kepa Arrizabalaga       Andy Carr   \n",
       "2        1      1      1  Kepa Arrizabalaga      Matt Davis   \n",
       "3        1      1      1       David de Gea     Dave Savery   \n",
       "4        1      1      1            Ederson  Alex Silverman   \n",
       "\n",
       "                        Team    Position  Amount  Success  Points Last Season  \\\n",
       "0              Loko Bakayoko  Goalkeeper     0.0     True                96.0   \n",
       "1               Carr Trouble  Goalkeeper     7.5     True                 0.0   \n",
       "2  Stand Up for the Champion  Goalkeeper     3.0    False                 0.0   \n",
       "3     SmokeCrack Mountain FC  Goalkeeper     7.0     True                36.0   \n",
       "4        Vandelay Industries  Goalkeeper    21.0     True                95.0   \n",
       "\n",
       "              Club  \n",
       "0        Liverpool  \n",
       "1          Chelsea  \n",
       "2          Chelsea  \n",
       "3   Manchester Utd  \n",
       "4  Manchester City  "
      ]
     },
     "execution_count": 5,
     "metadata": {},
     "output_type": "execute_result"
    }
   ],
   "source": [
    "df_bids.head()"
   ]
  },
  {
   "cell_type": "code",
   "execution_count": 6,
   "id": "finite-pride",
   "metadata": {},
   "outputs": [],
   "source": [
    "# generate one hot encoded values using get_dummies\n",
    "df_bids_ohe = pd.get_dummies(df_bids, columns=[\"Club\"], prefix=[\"Club_is\"] )\n",
    "df_bids_ohe = pd.get_dummies(df_bids_ohe, columns=[\"Position\"], prefix=[\"Position_is\"] )"
   ]
  },
  {
   "cell_type": "code",
   "execution_count": 7,
   "id": "boring-fantasy",
   "metadata": {},
   "outputs": [
    {
     "data": {
      "text/plain": [
       "Index(['Level', 'Round', 'Amount', 'Success', 'Points Last Season',\n",
       "       'Club_is_Arsenal', 'Club_is_Aston Villa', 'Club_is_Bournemouth',\n",
       "       'Club_is_Brighton & Hove Albion', 'Club_is_Burnley', 'Club_is_Chelsea',\n",
       "       'Club_is_Crystal Palace', 'Club_is_Everton', 'Club_is_Leicester City',\n",
       "       'Club_is_Liverpool', 'Club_is_Manchester City',\n",
       "       'Club_is_Manchester Utd', 'Club_is_Newcastle United',\n",
       "       'Club_is_Norwich City', 'Club_is_Sheffield United',\n",
       "       'Club_is_Southampton', 'Club_is_Tottenham', 'Club_is_Watford',\n",
       "       'Club_is_West Ham United', 'Club_is_Wolverhampton Wanderers',\n",
       "       'Position_is_Defender', 'Position_is_Forward', 'Position_is_Goalkeeper',\n",
       "       'Position_is_Midfielder'],\n",
       "      dtype='object')"
      ]
     },
     "execution_count": 7,
     "metadata": {},
     "output_type": "execute_result"
    }
   ],
   "source": [
    "df_bids_ohe = df_bids_ohe._get_numeric_data()\n",
    "df_bids_ohe.columns"
   ]
  },
  {
   "cell_type": "code",
   "execution_count": 8,
   "id": "reflected-nightmare",
   "metadata": {},
   "outputs": [],
   "source": [
    "X_unscaled = df_bids_ohe.drop(columns='Success')\n",
    "y_data = df_bids_ohe['Success']"
   ]
  },
  {
   "cell_type": "code",
   "execution_count": 9,
   "id": "choice-regression",
   "metadata": {},
   "outputs": [],
   "source": [
    "from sklearn.preprocessing import StandardScaler\n",
    "\n",
    "scaler = StandardScaler()\n",
    "X_data = scaler.fit_transform(X_unscaled)"
   ]
  },
  {
   "cell_type": "markdown",
   "id": "valued-swaziland",
   "metadata": {},
   "source": [
    "# Do some ML!"
   ]
  },
  {
   "cell_type": "markdown",
   "id": "behavioral-slave",
   "metadata": {},
   "source": [
    "## knn classifier"
   ]
  },
  {
   "cell_type": "code",
   "execution_count": 10,
   "id": "hundred-ordinary",
   "metadata": {},
   "outputs": [],
   "source": [
    "from sklearn.model_selection import train_test_split\n",
    "from sklearn.neighbors import KNeighborsClassifier\n",
    "from sklearn.metrics import accuracy_score"
   ]
  },
  {
   "cell_type": "code",
   "execution_count": 42,
   "id": "continent-lottery",
   "metadata": {},
   "outputs": [
    {
     "data": {
      "text/plain": [
       "0.6809741248097413"
      ]
     },
     "execution_count": 42,
     "metadata": {},
     "output_type": "execute_result"
    }
   ],
   "source": [
    "from sklearn.neighbors import KNeighborsClassifier\n",
    "\n",
    "X_train, X_test, y_train, y_test = train_test_split(X_data, y_data, test_size=0.3)\n",
    "\n",
    "clf = KNeighborsClassifier()\n",
    "clf.fit(X_train,y_train) \n",
    "\n",
    "y_preds = clf.predict(X_test)  \n",
    "accuracy_score(y_test,y_preds)"
   ]
  },
  {
   "cell_type": "markdown",
   "id": "downtown-regression",
   "metadata": {},
   "source": [
    "## Logistic Regression"
   ]
  },
  {
   "cell_type": "code",
   "execution_count": 41,
   "id": "homeless-motivation",
   "metadata": {},
   "outputs": [
    {
     "data": {
      "text/plain": [
       "0.6442922374429224"
      ]
     },
     "execution_count": 41,
     "metadata": {},
     "output_type": "execute_result"
    }
   ],
   "source": [
    "from sklearn.linear_model import LogisticRegression\n",
    "\n",
    "X_train, X_test, y_train, y_test = train_test_split(X_data, y_data, test_size=0.3)\n",
    "\n",
    "clf2 = LogisticRegression()\n",
    "clf2.fit(X_train,y_train) \n",
    "\n",
    "y_preds2 = clf2.predict(X_test)  \n",
    "accuracy_score(y_test,y_preds2)"
   ]
  },
  {
   "cell_type": "markdown",
   "id": "committed-karaoke",
   "metadata": {},
   "source": [
    "## Decision Tree"
   ]
  },
  {
   "cell_type": "code",
   "execution_count": 66,
   "id": "prostate-virtue",
   "metadata": {},
   "outputs": [
    {
     "data": {
      "text/plain": [
       "0.6549467275494673"
      ]
     },
     "execution_count": 66,
     "metadata": {},
     "output_type": "execute_result"
    }
   ],
   "source": [
    "from sklearn.tree import DecisionTreeClassifier\n",
    "\n",
    "X_train, X_test, y_train, y_test = train_test_split(X_unscaled, y_data, test_size=0.3)\n",
    "\n",
    "clf3 = DecisionTreeClassifier(max_depth = 3)\n",
    "clf3.fit(X_train,y_train) \n",
    "\n",
    "y_preds3 = clf3.predict(X_test)  \n",
    "accuracy_score(y_test,y_preds3)"
   ]
  },
  {
   "cell_type": "code",
   "execution_count": 67,
   "id": "continuing-television",
   "metadata": {},
   "outputs": [
    {
     "data": {
      "image/svg+xml": [
       "<?xml version=\"1.0\" encoding=\"UTF-8\" standalone=\"no\"?>\r\n",
       "<!DOCTYPE svg PUBLIC \"-//W3C//DTD SVG 1.1//EN\"\r\n",
       " \"http://www.w3.org/Graphics/SVG/1.1/DTD/svg11.dtd\">\r\n",
       "<!-- Generated by graphviz version 2.38.0 (20140413.2041)\r\n",
       " -->\r\n",
       "<!-- Title: Tree Pages: 1 -->\r\n",
       "<svg width=\"1198pt\" height=\"433pt\"\r\n",
       " viewBox=\"0.00 0.00 1198.00 433.00\" xmlns=\"http://www.w3.org/2000/svg\" xmlns:xlink=\"http://www.w3.org/1999/xlink\">\r\n",
       "<g id=\"graph0\" class=\"graph\" transform=\"scale(1 1) rotate(0) translate(4 429)\">\r\n",
       "<title>Tree</title>\r\n",
       "<polygon fill=\"white\" stroke=\"none\" points=\"-4,4 -4,-429 1194,-429 1194,4 -4,4\"/>\r\n",
       "<!-- 0 -->\r\n",
       "<g id=\"node1\" class=\"node\"><title>0</title>\r\n",
       "<path fill=\"#fffdfc\" stroke=\"black\" d=\"M693.5,-425C693.5,-425 534.5,-425 534.5,-425 528.5,-425 522.5,-419 522.5,-413 522.5,-413 522.5,-354 522.5,-354 522.5,-348 528.5,-342 534.5,-342 534.5,-342 693.5,-342 693.5,-342 699.5,-342 705.5,-348 705.5,-354 705.5,-354 705.5,-413 705.5,-413 705.5,-419 699.5,-425 693.5,-425\"/>\r\n",
       "<text text-anchor=\"start\" x=\"530.5\" y=\"-409.8\" font-family=\"Helvetica,sans-Serif\" font-size=\"14.00\">Points Last Season ≤ 69.5</text>\r\n",
       "<text text-anchor=\"start\" x=\"585\" y=\"-394.8\" font-family=\"Helvetica,sans-Serif\" font-size=\"14.00\">gini = 0.5</text>\r\n",
       "<text text-anchor=\"start\" x=\"558\" y=\"-379.8\" font-family=\"Helvetica,sans-Serif\" font-size=\"14.00\">samples = 15328</text>\r\n",
       "<text text-anchor=\"start\" x=\"549\" y=\"-364.8\" font-family=\"Helvetica,sans-Serif\" font-size=\"14.00\">value = [7722, 7606]</text>\r\n",
       "<text text-anchor=\"start\" x=\"574.5\" y=\"-349.8\" font-family=\"Helvetica,sans-Serif\" font-size=\"14.00\">class = True</text>\r\n",
       "</g>\r\n",
       "<!-- 1 -->\r\n",
       "<g id=\"node2\" class=\"node\"><title>1</title>\r\n",
       "<path fill=\"#d6eafa\" stroke=\"black\" d=\"M556,-306C556,-306 434,-306 434,-306 428,-306 422,-300 422,-294 422,-294 422,-235 422,-235 422,-229 428,-223 434,-223 434,-223 556,-223 556,-223 562,-223 568,-229 568,-235 568,-235 568,-294 568,-294 568,-300 562,-306 556,-306\"/>\r\n",
       "<text text-anchor=\"start\" x=\"448.5\" y=\"-290.8\" font-family=\"Helvetica,sans-Serif\" font-size=\"14.00\">Amount ≤ 0.25</text>\r\n",
       "<text text-anchor=\"start\" x=\"457.5\" y=\"-275.8\" font-family=\"Helvetica,sans-Serif\" font-size=\"14.00\">gini = 0.493</text>\r\n",
       "<text text-anchor=\"start\" x=\"439\" y=\"-260.8\" font-family=\"Helvetica,sans-Serif\" font-size=\"14.00\">samples = 11714</text>\r\n",
       "<text text-anchor=\"start\" x=\"430\" y=\"-245.8\" font-family=\"Helvetica,sans-Serif\" font-size=\"14.00\">value = [5172, 6542]</text>\r\n",
       "<text text-anchor=\"start\" x=\"452.5\" y=\"-230.8\" font-family=\"Helvetica,sans-Serif\" font-size=\"14.00\">class = False</text>\r\n",
       "</g>\r\n",
       "<!-- 0&#45;&gt;1 -->\r\n",
       "<g id=\"edge1\" class=\"edge\"><title>0&#45;&gt;1</title>\r\n",
       "<path fill=\"none\" stroke=\"black\" d=\"M572.714,-341.907C563.299,-332.651 553.211,-322.732 543.524,-313.209\"/>\r\n",
       "<polygon fill=\"black\" stroke=\"black\" points=\"545.798,-310.536 536.213,-306.021 540.89,-315.527 545.798,-310.536\"/>\r\n",
       "<text text-anchor=\"middle\" x=\"536.425\" y=\"-327.32\" font-family=\"Helvetica,sans-Serif\" font-size=\"14.00\">True</text>\r\n",
       "</g>\r\n",
       "<!-- 8 -->\r\n",
       "<g id=\"node9\" class=\"node\"><title>8</title>\r\n",
       "<path fill=\"#f0b68c\" stroke=\"black\" d=\"M795,-306C795,-306 673,-306 673,-306 667,-306 661,-300 661,-294 661,-294 661,-235 661,-235 661,-229 667,-223 673,-223 673,-223 795,-223 795,-223 801,-223 807,-229 807,-235 807,-235 807,-294 807,-294 807,-300 801,-306 795,-306\"/>\r\n",
       "<text text-anchor=\"start\" x=\"683.5\" y=\"-290.8\" font-family=\"Helvetica,sans-Serif\" font-size=\"14.00\">Amount ≤ 15.25</text>\r\n",
       "<text text-anchor=\"start\" x=\"696.5\" y=\"-275.8\" font-family=\"Helvetica,sans-Serif\" font-size=\"14.00\">gini = 0.415</text>\r\n",
       "<text text-anchor=\"start\" x=\"682.5\" y=\"-260.8\" font-family=\"Helvetica,sans-Serif\" font-size=\"14.00\">samples = 3614</text>\r\n",
       "<text text-anchor=\"start\" x=\"669\" y=\"-245.8\" font-family=\"Helvetica,sans-Serif\" font-size=\"14.00\">value = [2550, 1064]</text>\r\n",
       "<text text-anchor=\"start\" x=\"694.5\" y=\"-230.8\" font-family=\"Helvetica,sans-Serif\" font-size=\"14.00\">class = True</text>\r\n",
       "</g>\r\n",
       "<!-- 0&#45;&gt;8 -->\r\n",
       "<g id=\"edge8\" class=\"edge\"><title>0&#45;&gt;8</title>\r\n",
       "<path fill=\"none\" stroke=\"black\" d=\"M655.633,-341.907C665.127,-332.651 675.3,-322.732 685.068,-313.209\"/>\r\n",
       "<polygon fill=\"black\" stroke=\"black\" points=\"687.724,-315.508 692.44,-306.021 682.837,-310.496 687.724,-315.508\"/>\r\n",
       "<text text-anchor=\"middle\" x=\"692.124\" y=\"-327.319\" font-family=\"Helvetica,sans-Serif\" font-size=\"14.00\">False</text>\r\n",
       "</g>\r\n",
       "<!-- 2 -->\r\n",
       "<g id=\"node3\" class=\"node\"><title>2</title>\r\n",
       "<path fill=\"#fcf1e9\" stroke=\"black\" d=\"M290,-187C290,-187 168,-187 168,-187 162,-187 156,-181 156,-175 156,-175 156,-116 156,-116 156,-110 162,-104 168,-104 168,-104 290,-104 290,-104 296,-104 302,-110 302,-116 302,-116 302,-175 302,-175 302,-181 296,-187 290,-187\"/>\r\n",
       "<text text-anchor=\"start\" x=\"190\" y=\"-171.8\" font-family=\"Helvetica,sans-Serif\" font-size=\"14.00\">Round ≤ 6.5</text>\r\n",
       "<text text-anchor=\"start\" x=\"191.5\" y=\"-156.8\" font-family=\"Helvetica,sans-Serif\" font-size=\"14.00\">gini = 0.498</text>\r\n",
       "<text text-anchor=\"start\" x=\"177.5\" y=\"-141.8\" font-family=\"Helvetica,sans-Serif\" font-size=\"14.00\">samples = 6106</text>\r\n",
       "<text text-anchor=\"start\" x=\"164\" y=\"-126.8\" font-family=\"Helvetica,sans-Serif\" font-size=\"14.00\">value = [3233, 2873]</text>\r\n",
       "<text text-anchor=\"start\" x=\"189.5\" y=\"-111.8\" font-family=\"Helvetica,sans-Serif\" font-size=\"14.00\">class = True</text>\r\n",
       "</g>\r\n",
       "<!-- 1&#45;&gt;2 -->\r\n",
       "<g id=\"edge2\" class=\"edge\"><title>1&#45;&gt;2</title>\r\n",
       "<path fill=\"none\" stroke=\"black\" d=\"M421.962,-231.374C387.796,-216.346 346.952,-198.381 311.657,-182.856\"/>\r\n",
       "<polygon fill=\"black\" stroke=\"black\" points=\"312.899,-179.579 302.336,-178.757 310.081,-185.987 312.899,-179.579\"/>\r\n",
       "</g>\r\n",
       "<!-- 5 -->\r\n",
       "<g id=\"node6\" class=\"node\"><title>5</title>\r\n",
       "<path fill=\"#a2d1f3\" stroke=\"black\" d=\"M556,-187C556,-187 434,-187 434,-187 428,-187 422,-181 422,-175 422,-175 422,-116 422,-116 422,-110 428,-104 434,-104 434,-104 556,-104 556,-104 562,-104 568,-110 568,-116 568,-116 568,-175 568,-175 568,-181 562,-187 556,-187\"/>\r\n",
       "<text text-anchor=\"start\" x=\"456\" y=\"-171.8\" font-family=\"Helvetica,sans-Serif\" font-size=\"14.00\">Round ≤ 8.5</text>\r\n",
       "<text text-anchor=\"start\" x=\"457.5\" y=\"-156.8\" font-family=\"Helvetica,sans-Serif\" font-size=\"14.00\">gini = 0.452</text>\r\n",
       "<text text-anchor=\"start\" x=\"443.5\" y=\"-141.8\" font-family=\"Helvetica,sans-Serif\" font-size=\"14.00\">samples = 5608</text>\r\n",
       "<text text-anchor=\"start\" x=\"430\" y=\"-126.8\" font-family=\"Helvetica,sans-Serif\" font-size=\"14.00\">value = [1939, 3669]</text>\r\n",
       "<text text-anchor=\"start\" x=\"452.5\" y=\"-111.8\" font-family=\"Helvetica,sans-Serif\" font-size=\"14.00\">class = False</text>\r\n",
       "</g>\r\n",
       "<!-- 1&#45;&gt;5 -->\r\n",
       "<g id=\"edge5\" class=\"edge\"><title>1&#45;&gt;5</title>\r\n",
       "<path fill=\"none\" stroke=\"black\" d=\"M495,-222.907C495,-214.649 495,-205.864 495,-197.302\"/>\r\n",
       "<polygon fill=\"black\" stroke=\"black\" points=\"498.5,-197.021 495,-187.021 491.5,-197.021 498.5,-197.021\"/>\r\n",
       "</g>\r\n",
       "<!-- 3 -->\r\n",
       "<g id=\"node4\" class=\"node\"><title>3</title>\r\n",
       "<path fill=\"#f8dbc7\" stroke=\"black\" d=\"M134,-68C134,-68 12,-68 12,-68 6,-68 0,-62 0,-56 0,-56 0,-12 0,-12 0,-6 6,-0 12,-0 12,-0 134,-0 134,-0 140,-0 146,-6 146,-12 146,-12 146,-56 146,-56 146,-62 140,-68 134,-68\"/>\r\n",
       "<text text-anchor=\"start\" x=\"35.5\" y=\"-52.8\" font-family=\"Helvetica,sans-Serif\" font-size=\"14.00\">gini = 0.486</text>\r\n",
       "<text text-anchor=\"start\" x=\"21.5\" y=\"-37.8\" font-family=\"Helvetica,sans-Serif\" font-size=\"14.00\">samples = 4724</text>\r\n",
       "<text text-anchor=\"start\" x=\"8\" y=\"-22.8\" font-family=\"Helvetica,sans-Serif\" font-size=\"14.00\">value = [2752, 1972]</text>\r\n",
       "<text text-anchor=\"start\" x=\"33.5\" y=\"-7.8\" font-family=\"Helvetica,sans-Serif\" font-size=\"14.00\">class = True</text>\r\n",
       "</g>\r\n",
       "<!-- 2&#45;&gt;3 -->\r\n",
       "<g id=\"edge3\" class=\"edge\"><title>2&#45;&gt;3</title>\r\n",
       "<path fill=\"none\" stroke=\"black\" d=\"M170.911,-103.726C157.138,-94.0582 142.476,-83.767 128.807,-74.172\"/>\r\n",
       "<polygon fill=\"black\" stroke=\"black\" points=\"130.636,-71.1801 120.441,-68.2996 126.615,-76.9096 130.636,-71.1801\"/>\r\n",
       "</g>\r\n",
       "<!-- 4 -->\r\n",
       "<g id=\"node5\" class=\"node\"><title>4</title>\r\n",
       "<path fill=\"#a3d1f3\" stroke=\"black\" d=\"M282,-68C282,-68 176,-68 176,-68 170,-68 164,-62 164,-56 164,-56 164,-12 164,-12 164,-6 170,-0 176,-0 176,-0 282,-0 282,-0 288,-0 294,-6 294,-12 294,-12 294,-56 294,-56 294,-62 288,-68 282,-68\"/>\r\n",
       "<text text-anchor=\"start\" x=\"191.5\" y=\"-52.8\" font-family=\"Helvetica,sans-Serif\" font-size=\"14.00\">gini = 0.454</text>\r\n",
       "<text text-anchor=\"start\" x=\"177.5\" y=\"-37.8\" font-family=\"Helvetica,sans-Serif\" font-size=\"14.00\">samples = 1382</text>\r\n",
       "<text text-anchor=\"start\" x=\"172\" y=\"-22.8\" font-family=\"Helvetica,sans-Serif\" font-size=\"14.00\">value = [481, 901]</text>\r\n",
       "<text text-anchor=\"start\" x=\"186.5\" y=\"-7.8\" font-family=\"Helvetica,sans-Serif\" font-size=\"14.00\">class = False</text>\r\n",
       "</g>\r\n",
       "<!-- 2&#45;&gt;4 -->\r\n",
       "<g id=\"edge4\" class=\"edge\"><title>2&#45;&gt;4</title>\r\n",
       "<path fill=\"none\" stroke=\"black\" d=\"M229,-103.726C229,-95.5175 229,-86.8595 229,-78.56\"/>\r\n",
       "<polygon fill=\"black\" stroke=\"black\" points=\"232.5,-78.2996 229,-68.2996 225.5,-78.2996 232.5,-78.2996\"/>\r\n",
       "</g>\r\n",
       "<!-- 6 -->\r\n",
       "<g id=\"node7\" class=\"node\"><title>6</title>\r\n",
       "<path fill=\"#acd6f4\" stroke=\"black\" d=\"M446,-68C446,-68 324,-68 324,-68 318,-68 312,-62 312,-56 312,-56 312,-12 312,-12 312,-6 318,-0 324,-0 324,-0 446,-0 446,-0 452,-0 458,-6 458,-12 458,-12 458,-56 458,-56 458,-62 452,-68 446,-68\"/>\r\n",
       "<text text-anchor=\"start\" x=\"347.5\" y=\"-52.8\" font-family=\"Helvetica,sans-Serif\" font-size=\"14.00\">gini = 0.464</text>\r\n",
       "<text text-anchor=\"start\" x=\"333.5\" y=\"-37.8\" font-family=\"Helvetica,sans-Serif\" font-size=\"14.00\">samples = 4917</text>\r\n",
       "<text text-anchor=\"start\" x=\"320\" y=\"-22.8\" font-family=\"Helvetica,sans-Serif\" font-size=\"14.00\">value = [1803, 3114]</text>\r\n",
       "<text text-anchor=\"start\" x=\"342.5\" y=\"-7.8\" font-family=\"Helvetica,sans-Serif\" font-size=\"14.00\">class = False</text>\r\n",
       "</g>\r\n",
       "<!-- 5&#45;&gt;6 -->\r\n",
       "<g id=\"edge6\" class=\"edge\"><title>5&#45;&gt;6</title>\r\n",
       "<path fill=\"none\" stroke=\"black\" d=\"M454.04,-103.726C444.786,-94.5142 434.964,-84.7364 425.719,-75.5343\"/>\r\n",
       "<polygon fill=\"black\" stroke=\"black\" points=\"428.008,-72.8741 418.452,-68.2996 423.07,-77.8351 428.008,-72.8741\"/>\r\n",
       "</g>\r\n",
       "<!-- 7 -->\r\n",
       "<g id=\"node8\" class=\"node\"><title>7</title>\r\n",
       "<path fill=\"#6ab5eb\" stroke=\"black\" d=\"M594,-68C594,-68 488,-68 488,-68 482,-68 476,-62 476,-56 476,-56 476,-12 476,-12 476,-6 482,-0 488,-0 488,-0 594,-0 594,-0 600,-0 606,-6 606,-12 606,-12 606,-56 606,-56 606,-62 600,-68 594,-68\"/>\r\n",
       "<text text-anchor=\"start\" x=\"503.5\" y=\"-52.8\" font-family=\"Helvetica,sans-Serif\" font-size=\"14.00\">gini = 0.316</text>\r\n",
       "<text text-anchor=\"start\" x=\"493.5\" y=\"-37.8\" font-family=\"Helvetica,sans-Serif\" font-size=\"14.00\">samples = 691</text>\r\n",
       "<text text-anchor=\"start\" x=\"484\" y=\"-22.8\" font-family=\"Helvetica,sans-Serif\" font-size=\"14.00\">value = [136, 555]</text>\r\n",
       "<text text-anchor=\"start\" x=\"498.5\" y=\"-7.8\" font-family=\"Helvetica,sans-Serif\" font-size=\"14.00\">class = False</text>\r\n",
       "</g>\r\n",
       "<!-- 5&#45;&gt;7 -->\r\n",
       "<g id=\"edge7\" class=\"edge\"><title>5&#45;&gt;7</title>\r\n",
       "<path fill=\"none\" stroke=\"black\" d=\"M512.129,-103.726C515.692,-95.2439 519.457,-86.2819 523.049,-77.7312\"/>\r\n",
       "<polygon fill=\"black\" stroke=\"black\" points=\"526.365,-78.8747 527.011,-68.2996 519.911,-76.1635 526.365,-78.8747\"/>\r\n",
       "</g>\r\n",
       "<!-- 9 -->\r\n",
       "<g id=\"node10\" class=\"node\"><title>9</title>\r\n",
       "<path fill=\"#eda978\" stroke=\"black\" d=\"M813.5,-187C813.5,-187 654.5,-187 654.5,-187 648.5,-187 642.5,-181 642.5,-175 642.5,-175 642.5,-116 642.5,-116 642.5,-110 648.5,-104 654.5,-104 654.5,-104 813.5,-104 813.5,-104 819.5,-104 825.5,-110 825.5,-116 825.5,-116 825.5,-175 825.5,-175 825.5,-181 819.5,-187 813.5,-187\"/>\r\n",
       "<text text-anchor=\"start\" x=\"650.5\" y=\"-171.8\" font-family=\"Helvetica,sans-Serif\" font-size=\"14.00\">Points Last Season ≤ 77.5</text>\r\n",
       "<text text-anchor=\"start\" x=\"696.5\" y=\"-156.8\" font-family=\"Helvetica,sans-Serif\" font-size=\"14.00\">gini = 0.367</text>\r\n",
       "<text text-anchor=\"start\" x=\"682.5\" y=\"-141.8\" font-family=\"Helvetica,sans-Serif\" font-size=\"14.00\">samples = 3149</text>\r\n",
       "<text text-anchor=\"start\" x=\"673\" y=\"-126.8\" font-family=\"Helvetica,sans-Serif\" font-size=\"14.00\">value = [2387, 762]</text>\r\n",
       "<text text-anchor=\"start\" x=\"694.5\" y=\"-111.8\" font-family=\"Helvetica,sans-Serif\" font-size=\"14.00\">class = True</text>\r\n",
       "</g>\r\n",
       "<!-- 8&#45;&gt;9 -->\r\n",
       "<g id=\"edge9\" class=\"edge\"><title>8&#45;&gt;9</title>\r\n",
       "<path fill=\"none\" stroke=\"black\" d=\"M734,-222.907C734,-214.649 734,-205.864 734,-197.302\"/>\r\n",
       "<polygon fill=\"black\" stroke=\"black\" points=\"737.5,-197.021 734,-187.021 730.5,-197.021 737.5,-197.021\"/>\r\n",
       "</g>\r\n",
       "<!-- 12 -->\r\n",
       "<g id=\"node13\" class=\"node\"><title>12</title>\r\n",
       "<path fill=\"#a4d2f3\" stroke=\"black\" d=\"M1042,-187C1042,-187 936,-187 936,-187 930,-187 924,-181 924,-175 924,-175 924,-116 924,-116 924,-110 930,-104 936,-104 936,-104 1042,-104 1042,-104 1048,-104 1054,-110 1054,-116 1054,-116 1054,-175 1054,-175 1054,-181 1048,-187 1042,-187\"/>\r\n",
       "<text text-anchor=\"start\" x=\"938.5\" y=\"-171.8\" font-family=\"Helvetica,sans-Serif\" font-size=\"14.00\">Amount ≤ 18.25</text>\r\n",
       "<text text-anchor=\"start\" x=\"951.5\" y=\"-156.8\" font-family=\"Helvetica,sans-Serif\" font-size=\"14.00\">gini = 0.455</text>\r\n",
       "<text text-anchor=\"start\" x=\"941.5\" y=\"-141.8\" font-family=\"Helvetica,sans-Serif\" font-size=\"14.00\">samples = 465</text>\r\n",
       "<text text-anchor=\"start\" x=\"932\" y=\"-126.8\" font-family=\"Helvetica,sans-Serif\" font-size=\"14.00\">value = [163, 302]</text>\r\n",
       "<text text-anchor=\"start\" x=\"946.5\" y=\"-111.8\" font-family=\"Helvetica,sans-Serif\" font-size=\"14.00\">class = False</text>\r\n",
       "</g>\r\n",
       "<!-- 8&#45;&gt;12 -->\r\n",
       "<g id=\"edge12\" class=\"edge\"><title>8&#45;&gt;12</title>\r\n",
       "<path fill=\"none\" stroke=\"black\" d=\"M807.073,-229.972C840.704,-214.542 880.555,-196.257 914.374,-180.74\"/>\r\n",
       "<polygon fill=\"black\" stroke=\"black\" points=\"916.113,-183.793 923.742,-176.442 913.194,-177.431 916.113,-183.793\"/>\r\n",
       "</g>\r\n",
       "<!-- 10 -->\r\n",
       "<g id=\"node11\" class=\"node\"><title>10</title>\r\n",
       "<path fill=\"#f6d5bd\" stroke=\"black\" d=\"M742,-68C742,-68 636,-68 636,-68 630,-68 624,-62 624,-56 624,-56 624,-12 624,-12 624,-6 630,-0 636,-0 636,-0 742,-0 742,-0 748,-0 754,-6 754,-12 754,-12 754,-56 754,-56 754,-62 748,-68 742,-68\"/>\r\n",
       "<text text-anchor=\"start\" x=\"655.5\" y=\"-52.8\" font-family=\"Helvetica,sans-Serif\" font-size=\"14.00\">gini = 0.48</text>\r\n",
       "<text text-anchor=\"start\" x=\"641.5\" y=\"-37.8\" font-family=\"Helvetica,sans-Serif\" font-size=\"14.00\">samples = 699</text>\r\n",
       "<text text-anchor=\"start\" x=\"632\" y=\"-22.8\" font-family=\"Helvetica,sans-Serif\" font-size=\"14.00\">value = [419, 280]</text>\r\n",
       "<text text-anchor=\"start\" x=\"649.5\" y=\"-7.8\" font-family=\"Helvetica,sans-Serif\" font-size=\"14.00\">class = True</text>\r\n",
       "</g>\r\n",
       "<!-- 9&#45;&gt;10 -->\r\n",
       "<g id=\"edge10\" class=\"edge\"><title>9&#45;&gt;10</title>\r\n",
       "<path fill=\"none\" stroke=\"black\" d=\"M717.244,-103.726C713.758,-95.2439 710.075,-86.2819 706.561,-77.7312\"/>\r\n",
       "<polygon fill=\"black\" stroke=\"black\" points=\"709.723,-76.2186 702.685,-68.2996 703.249,-78.8794 709.723,-76.2186\"/>\r\n",
       "</g>\r\n",
       "<!-- 11 -->\r\n",
       "<g id=\"node12\" class=\"node\"><title>11</title>\r\n",
       "<path fill=\"#eba069\" stroke=\"black\" d=\"M898,-68C898,-68 784,-68 784,-68 778,-68 772,-62 772,-56 772,-56 772,-12 772,-12 772,-6 778,-0 784,-0 784,-0 898,-0 898,-0 904,-0 910,-6 910,-12 910,-12 910,-56 910,-56 910,-62 904,-68 898,-68\"/>\r\n",
       "<text text-anchor=\"start\" x=\"803.5\" y=\"-52.8\" font-family=\"Helvetica,sans-Serif\" font-size=\"14.00\">gini = 0.316</text>\r\n",
       "<text text-anchor=\"start\" x=\"789.5\" y=\"-37.8\" font-family=\"Helvetica,sans-Serif\" font-size=\"14.00\">samples = 2450</text>\r\n",
       "<text text-anchor=\"start\" x=\"780\" y=\"-22.8\" font-family=\"Helvetica,sans-Serif\" font-size=\"14.00\">value = [1968, 482]</text>\r\n",
       "<text text-anchor=\"start\" x=\"801.5\" y=\"-7.8\" font-family=\"Helvetica,sans-Serif\" font-size=\"14.00\">class = True</text>\r\n",
       "</g>\r\n",
       "<!-- 9&#45;&gt;11 -->\r\n",
       "<g id=\"edge11\" class=\"edge\"><title>9&#45;&gt;11</title>\r\n",
       "<path fill=\"none\" stroke=\"black\" d=\"M773.843,-103.726C782.845,-94.5142 792.399,-84.7364 801.391,-75.5343\"/>\r\n",
       "<polygon fill=\"black\" stroke=\"black\" points=\"803.975,-77.898 808.461,-68.2996 798.968,-73.0057 803.975,-77.898\"/>\r\n",
       "</g>\r\n",
       "<!-- 13 -->\r\n",
       "<g id=\"node14\" class=\"node\"><title>13</title>\r\n",
       "<path fill=\"#dbedfa\" stroke=\"black\" d=\"M1038,-68C1038,-68 940,-68 940,-68 934,-68 928,-62 928,-56 928,-56 928,-12 928,-12 928,-6 934,-0 940,-0 940,-0 1038,-0 1038,-0 1044,-0 1050,-6 1050,-12 1050,-12 1050,-56 1050,-56 1050,-62 1044,-68 1038,-68\"/>\r\n",
       "<text text-anchor=\"start\" x=\"951.5\" y=\"-52.8\" font-family=\"Helvetica,sans-Serif\" font-size=\"14.00\">gini = 0.495</text>\r\n",
       "<text text-anchor=\"start\" x=\"941.5\" y=\"-37.8\" font-family=\"Helvetica,sans-Serif\" font-size=\"14.00\">samples = 202</text>\r\n",
       "<text text-anchor=\"start\" x=\"936\" y=\"-22.8\" font-family=\"Helvetica,sans-Serif\" font-size=\"14.00\">value = [91, 111]</text>\r\n",
       "<text text-anchor=\"start\" x=\"946.5\" y=\"-7.8\" font-family=\"Helvetica,sans-Serif\" font-size=\"14.00\">class = False</text>\r\n",
       "</g>\r\n",
       "<!-- 12&#45;&gt;13 -->\r\n",
       "<g id=\"edge13\" class=\"edge\"><title>12&#45;&gt;13</title>\r\n",
       "<path fill=\"none\" stroke=\"black\" d=\"M989,-103.726C989,-95.5175 989,-86.8595 989,-78.56\"/>\r\n",
       "<polygon fill=\"black\" stroke=\"black\" points=\"992.5,-78.2996 989,-68.2996 985.5,-78.2996 992.5,-78.2996\"/>\r\n",
       "</g>\r\n",
       "<!-- 14 -->\r\n",
       "<g id=\"node15\" class=\"node\"><title>14</title>\r\n",
       "<path fill=\"#84c2ef\" stroke=\"black\" d=\"M1178,-68C1178,-68 1080,-68 1080,-68 1074,-68 1068,-62 1068,-56 1068,-56 1068,-12 1068,-12 1068,-6 1074,-0 1080,-0 1080,-0 1178,-0 1178,-0 1184,-0 1190,-6 1190,-12 1190,-12 1190,-56 1190,-56 1190,-62 1184,-68 1178,-68\"/>\r\n",
       "<text text-anchor=\"start\" x=\"1091.5\" y=\"-52.8\" font-family=\"Helvetica,sans-Serif\" font-size=\"14.00\">gini = 0.398</text>\r\n",
       "<text text-anchor=\"start\" x=\"1081.5\" y=\"-37.8\" font-family=\"Helvetica,sans-Serif\" font-size=\"14.00\">samples = 263</text>\r\n",
       "<text text-anchor=\"start\" x=\"1076\" y=\"-22.8\" font-family=\"Helvetica,sans-Serif\" font-size=\"14.00\">value = [72, 191]</text>\r\n",
       "<text text-anchor=\"start\" x=\"1086.5\" y=\"-7.8\" font-family=\"Helvetica,sans-Serif\" font-size=\"14.00\">class = False</text>\r\n",
       "</g>\r\n",
       "<!-- 12&#45;&gt;14 -->\r\n",
       "<g id=\"edge14\" class=\"edge\"><title>12&#45;&gt;14</title>\r\n",
       "<path fill=\"none\" stroke=\"black\" d=\"M1041.13,-103.726C1053.26,-94.2406 1066.15,-84.1551 1078.22,-74.7159\"/>\r\n",
       "<polygon fill=\"black\" stroke=\"black\" points=\"1080.7,-77.2173 1086.43,-68.2996 1076.39,-71.7035 1080.7,-77.2173\"/>\r\n",
       "</g>\r\n",
       "</g>\r\n",
       "</svg>\r\n"
      ],
      "text/plain": [
       "<graphviz.files.Source at 0x2c2b9647388>"
      ]
     },
     "execution_count": 67,
     "metadata": {},
     "output_type": "execute_result"
    }
   ],
   "source": [
    "from sklearn.tree import  export_graphviz\n",
    "import graphviz\n",
    "import os\n",
    "os.environ[\"PATH\"] += os.pathsep + 'C:/Program Files (x86)/Graphviz2.38/bin/'\n",
    "\n",
    "X_labels = X_unscaled.columns\n",
    "y_labels = y_data.unique().astype(str)\n",
    "\n",
    "dot_data = export_graphviz(clf3, out_file=None,\n",
    "                         filled=True, rounded=True,\n",
    "                        feature_names = X_labels,\n",
    "                        class_names = y_labels, \n",
    "                         special_characters=True)  \n",
    "graph = graphviz.Source(dot_data)  \n",
    "graph "
   ]
  },
  {
   "cell_type": "markdown",
   "id": "inside-jacob",
   "metadata": {},
   "source": [
    "## Gaussian Naive Bayes\n",
    "\n",
    "This works badly because one hot encoded variables clearly aren't gauss like"
   ]
  },
  {
   "cell_type": "code",
   "execution_count": 50,
   "id": "combined-administrator",
   "metadata": {},
   "outputs": [
    {
     "data": {
      "text/plain": [
       "0.582496194824962"
      ]
     },
     "execution_count": 50,
     "metadata": {},
     "output_type": "execute_result"
    }
   ],
   "source": [
    "from sklearn.naive_bayes import GaussianNB\n",
    "\n",
    "X_train, X_test, y_train, y_test = train_test_split(X_data, y_data, test_size=0.3)\n",
    "\n",
    "clf4 = GaussianNB()\n",
    "clf4.fit(X_train,y_train) \n",
    "\n",
    "y_preds4 = clf4.predict(X_test)  \n",
    "accuracy_score(y_test,y_preds4)"
   ]
  },
  {
   "cell_type": "markdown",
   "id": "deadly-jonathan",
   "metadata": {},
   "source": [
    "# Stupid approach - Guess all are failures"
   ]
  },
  {
   "cell_type": "code",
   "execution_count": 38,
   "id": "compound-factory",
   "metadata": {},
   "outputs": [
    {
     "data": {
      "text/plain": [
       "0.504292629463878"
      ]
     },
     "execution_count": 38,
     "metadata": {},
     "output_type": "execute_result"
    }
   ],
   "source": [
    "success_counts = df_bids['Success'].value_counts()\n",
    "success_counts[0]/success_counts.sum()"
   ]
  }
 ],
 "metadata": {
  "kernelspec": {
   "display_name": "Python 3",
   "language": "python",
   "name": "python3"
  },
  "language_info": {
   "codemirror_mode": {
    "name": "ipython",
    "version": 3
   },
   "file_extension": ".py",
   "mimetype": "text/x-python",
   "name": "python",
   "nbconvert_exporter": "python",
   "pygments_lexer": "ipython3",
   "version": "3.7.9"
  }
 },
 "nbformat": 4,
 "nbformat_minor": 5
}
