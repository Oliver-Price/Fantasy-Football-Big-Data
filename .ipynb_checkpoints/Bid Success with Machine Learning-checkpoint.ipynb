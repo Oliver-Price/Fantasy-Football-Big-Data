{
 "cells": [
  {
   "cell_type": "code",
   "execution_count": 2,
   "id": "accompanied-anatomy",
   "metadata": {},
   "outputs": [],
   "source": [
    "import os\n",
    "import pandas as pd\n",
    "import matplotlib.pyplot as plt\n",
    "from scipy import stats\n",
    "from IPython.core.display import HTML\n",
    "import datetime\n",
    "import numpy as np\n",
    "import numpy.ma as ma\n",
    "import pickle\n",
    "import matplotlib.cm as cm"
   ]
  },
  {
   "cell_type": "markdown",
   "id": "official-lease",
   "metadata": {},
   "source": [
    "# Load data in"
   ]
  },
  {
   "cell_type": "code",
   "execution_count": 3,
   "id": "polyphonic-canada",
   "metadata": {},
   "outputs": [],
   "source": [
    "year = 19; w = 543 # w is the mid-season cutoff in stats table\n",
    "\n",
    "save = os.getcwd()\n",
    "save = os.path.join(save,\"save\")\n",
    "save = os.path.join(save,str(year))\n",
    "\n",
    "save_bids = os.path.join(save,'allbids.pickle')\n",
    "\n",
    "with open(save_bids, 'rb') as f:\n",
    "    df_bids = pickle.load(f)\n",
    "    \n",
    "df_bids['Player'] = df_bids['Player'].str.strip()\n",
    "df_bids['Level'] = df_bids['Level'].astype(int)\n",
    "df_bids['Round'] = df_bids['Round'].astype(int)\n",
    "df_bids['Success'] = df_bids['Success'].astype(bool)\n",
    "    \n",
    "save_stats = os.path.join(save,'df.pickle')\n",
    "\n",
    "with open(save_stats, 'rb') as f:\n",
    "    df_stats = pickle.load(f)"
   ]
  },
  {
   "cell_type": "markdown",
   "id": "placed-teddy",
   "metadata": {},
   "source": [
    "# Prepare for ML"
   ]
  },
  {
   "cell_type": "code",
   "execution_count": 4,
   "id": "looking-computer",
   "metadata": {},
   "outputs": [],
   "source": [
    "#add points last season to bids table by mapping player names using stats table\n",
    "points_last_list = df_stats['Points Last Season'].fillna(0).tolist()\n",
    "name_list = df_stats['Name'].tolist()\n",
    "name_to_points_last = dict(zip(name_list,points_last_list))\n",
    "df_bids['Points Last Season'] = df_bids['Player'].map(name_to_points_last)"
   ]
  },
  {
   "cell_type": "code",
   "execution_count": 5,
   "id": "naughty-congo",
   "metadata": {},
   "outputs": [],
   "source": [
    "club_list = df_stats['club'].fillna(0).tolist()\n",
    "name_list = df_stats['Name'].tolist()\n",
    "name_to_club_last = dict(zip(name_list,club_list))\n",
    "df_bids['Club'] = df_bids['Player'].map(name_to_club_last)"
   ]
  },
  {
   "cell_type": "code",
   "execution_count": 6,
   "id": "historic-drill",
   "metadata": {},
   "outputs": [
    {
     "data": {
      "text/html": [
       "<div>\n",
       "<style scoped>\n",
       "    .dataframe tbody tr th:only-of-type {\n",
       "        vertical-align: middle;\n",
       "    }\n",
       "\n",
       "    .dataframe tbody tr th {\n",
       "        vertical-align: top;\n",
       "    }\n",
       "\n",
       "    .dataframe thead th {\n",
       "        text-align: right;\n",
       "    }\n",
       "</style>\n",
       "<table border=\"1\" class=\"dataframe\">\n",
       "  <thead>\n",
       "    <tr style=\"text-align: right;\">\n",
       "      <th></th>\n",
       "      <th>Division</th>\n",
       "      <th>Level</th>\n",
       "      <th>Round</th>\n",
       "      <th>Player</th>\n",
       "      <th>Manager</th>\n",
       "      <th>Team</th>\n",
       "      <th>Position</th>\n",
       "      <th>Amount</th>\n",
       "      <th>Success</th>\n",
       "      <th>Points Last Season</th>\n",
       "      <th>Club</th>\n",
       "    </tr>\n",
       "  </thead>\n",
       "  <tbody>\n",
       "    <tr>\n",
       "      <th>0</th>\n",
       "      <td>1</td>\n",
       "      <td>1</td>\n",
       "      <td>1</td>\n",
       "      <td>Alisson</td>\n",
       "      <td>Owen Griffiths</td>\n",
       "      <td>Loko Bakayoko</td>\n",
       "      <td>Goalkeeper</td>\n",
       "      <td>0.0</td>\n",
       "      <td>True</td>\n",
       "      <td>96.0</td>\n",
       "      <td>Liverpool</td>\n",
       "    </tr>\n",
       "    <tr>\n",
       "      <th>1</th>\n",
       "      <td>1</td>\n",
       "      <td>1</td>\n",
       "      <td>1</td>\n",
       "      <td>Kepa Arrizabalaga</td>\n",
       "      <td>Andy Carr</td>\n",
       "      <td>Carr Trouble</td>\n",
       "      <td>Goalkeeper</td>\n",
       "      <td>7.5</td>\n",
       "      <td>True</td>\n",
       "      <td>0.0</td>\n",
       "      <td>Chelsea</td>\n",
       "    </tr>\n",
       "    <tr>\n",
       "      <th>2</th>\n",
       "      <td>1</td>\n",
       "      <td>1</td>\n",
       "      <td>1</td>\n",
       "      <td>Kepa Arrizabalaga</td>\n",
       "      <td>Matt Davis</td>\n",
       "      <td>Stand Up for the Champion</td>\n",
       "      <td>Goalkeeper</td>\n",
       "      <td>3.0</td>\n",
       "      <td>False</td>\n",
       "      <td>0.0</td>\n",
       "      <td>Chelsea</td>\n",
       "    </tr>\n",
       "    <tr>\n",
       "      <th>3</th>\n",
       "      <td>1</td>\n",
       "      <td>1</td>\n",
       "      <td>1</td>\n",
       "      <td>David de Gea</td>\n",
       "      <td>Dave Savery</td>\n",
       "      <td>SmokeCrack Mountain FC</td>\n",
       "      <td>Goalkeeper</td>\n",
       "      <td>7.0</td>\n",
       "      <td>True</td>\n",
       "      <td>36.0</td>\n",
       "      <td>Manchester Utd</td>\n",
       "    </tr>\n",
       "    <tr>\n",
       "      <th>4</th>\n",
       "      <td>1</td>\n",
       "      <td>1</td>\n",
       "      <td>1</td>\n",
       "      <td>Ederson</td>\n",
       "      <td>Alex Silverman</td>\n",
       "      <td>Vandelay Industries</td>\n",
       "      <td>Goalkeeper</td>\n",
       "      <td>21.0</td>\n",
       "      <td>True</td>\n",
       "      <td>95.0</td>\n",
       "      <td>Manchester City</td>\n",
       "    </tr>\n",
       "  </tbody>\n",
       "</table>\n",
       "</div>"
      ],
      "text/plain": [
       "  Division  Level  Round             Player         Manager  \\\n",
       "0        1      1      1            Alisson  Owen Griffiths   \n",
       "1        1      1      1  Kepa Arrizabalaga       Andy Carr   \n",
       "2        1      1      1  Kepa Arrizabalaga      Matt Davis   \n",
       "3        1      1      1       David de Gea     Dave Savery   \n",
       "4        1      1      1            Ederson  Alex Silverman   \n",
       "\n",
       "                        Team    Position  Amount  Success  Points Last Season  \\\n",
       "0              Loko Bakayoko  Goalkeeper     0.0     True                96.0   \n",
       "1               Carr Trouble  Goalkeeper     7.5     True                 0.0   \n",
       "2  Stand Up for the Champion  Goalkeeper     3.0    False                 0.0   \n",
       "3     SmokeCrack Mountain FC  Goalkeeper     7.0     True                36.0   \n",
       "4        Vandelay Industries  Goalkeeper    21.0     True                95.0   \n",
       "\n",
       "              Club  \n",
       "0        Liverpool  \n",
       "1          Chelsea  \n",
       "2          Chelsea  \n",
       "3   Manchester Utd  \n",
       "4  Manchester City  "
      ]
     },
     "execution_count": 6,
     "metadata": {},
     "output_type": "execute_result"
    }
   ],
   "source": [
    "df_bids.head()"
   ]
  },
  {
   "cell_type": "code",
   "execution_count": 7,
   "id": "tested-child",
   "metadata": {},
   "outputs": [
    {
     "data": {
      "text/plain": [
       "(21898, 11)"
      ]
     },
     "execution_count": 7,
     "metadata": {},
     "output_type": "execute_result"
    }
   ],
   "source": [
    "df_bids.shape"
   ]
  },
  {
   "cell_type": "code",
   "execution_count": 8,
   "id": "normal-bowling",
   "metadata": {},
   "outputs": [
    {
     "data": {
      "text/html": [
       "<div>\n",
       "<style scoped>\n",
       "    .dataframe tbody tr th:only-of-type {\n",
       "        vertical-align: middle;\n",
       "    }\n",
       "\n",
       "    .dataframe tbody tr th {\n",
       "        vertical-align: top;\n",
       "    }\n",
       "\n",
       "    .dataframe thead th {\n",
       "        text-align: right;\n",
       "    }\n",
       "</style>\n",
       "<table border=\"1\" class=\"dataframe\">\n",
       "  <thead>\n",
       "    <tr style=\"text-align: right;\">\n",
       "      <th></th>\n",
       "      <th>Division</th>\n",
       "      <th>Level</th>\n",
       "      <th>Round</th>\n",
       "      <th>Player</th>\n",
       "      <th>Manager</th>\n",
       "      <th>Team</th>\n",
       "      <th>Position</th>\n",
       "      <th>Amount</th>\n",
       "      <th>Success</th>\n",
       "      <th>Points Last Season</th>\n",
       "    </tr>\n",
       "    <tr>\n",
       "      <th>Club</th>\n",
       "      <th></th>\n",
       "      <th></th>\n",
       "      <th></th>\n",
       "      <th></th>\n",
       "      <th></th>\n",
       "      <th></th>\n",
       "      <th></th>\n",
       "      <th></th>\n",
       "      <th></th>\n",
       "      <th></th>\n",
       "    </tr>\n",
       "  </thead>\n",
       "  <tbody>\n",
       "    <tr>\n",
       "      <th>Arsenal</th>\n",
       "      <td>1640</td>\n",
       "      <td>1640</td>\n",
       "      <td>1640</td>\n",
       "      <td>1640</td>\n",
       "      <td>1640</td>\n",
       "      <td>1640</td>\n",
       "      <td>1640</td>\n",
       "      <td>1640</td>\n",
       "      <td>1640</td>\n",
       "      <td>1640</td>\n",
       "    </tr>\n",
       "    <tr>\n",
       "      <th>Aston Villa</th>\n",
       "      <td>415</td>\n",
       "      <td>415</td>\n",
       "      <td>415</td>\n",
       "      <td>415</td>\n",
       "      <td>415</td>\n",
       "      <td>415</td>\n",
       "      <td>415</td>\n",
       "      <td>415</td>\n",
       "      <td>415</td>\n",
       "      <td>415</td>\n",
       "    </tr>\n",
       "    <tr>\n",
       "      <th>Bournemouth</th>\n",
       "      <td>637</td>\n",
       "      <td>637</td>\n",
       "      <td>637</td>\n",
       "      <td>637</td>\n",
       "      <td>637</td>\n",
       "      <td>637</td>\n",
       "      <td>637</td>\n",
       "      <td>637</td>\n",
       "      <td>637</td>\n",
       "      <td>637</td>\n",
       "    </tr>\n",
       "    <tr>\n",
       "      <th>Brighton &amp; Hove Albion</th>\n",
       "      <td>619</td>\n",
       "      <td>619</td>\n",
       "      <td>619</td>\n",
       "      <td>619</td>\n",
       "      <td>619</td>\n",
       "      <td>619</td>\n",
       "      <td>619</td>\n",
       "      <td>619</td>\n",
       "      <td>619</td>\n",
       "      <td>619</td>\n",
       "    </tr>\n",
       "    <tr>\n",
       "      <th>Burnley</th>\n",
       "      <td>781</td>\n",
       "      <td>781</td>\n",
       "      <td>781</td>\n",
       "      <td>781</td>\n",
       "      <td>781</td>\n",
       "      <td>781</td>\n",
       "      <td>781</td>\n",
       "      <td>781</td>\n",
       "      <td>781</td>\n",
       "      <td>781</td>\n",
       "    </tr>\n",
       "    <tr>\n",
       "      <th>Chelsea</th>\n",
       "      <td>1869</td>\n",
       "      <td>1869</td>\n",
       "      <td>1869</td>\n",
       "      <td>1869</td>\n",
       "      <td>1869</td>\n",
       "      <td>1869</td>\n",
       "      <td>1869</td>\n",
       "      <td>1869</td>\n",
       "      <td>1869</td>\n",
       "      <td>1869</td>\n",
       "    </tr>\n",
       "    <tr>\n",
       "      <th>Crystal Palace</th>\n",
       "      <td>886</td>\n",
       "      <td>886</td>\n",
       "      <td>886</td>\n",
       "      <td>886</td>\n",
       "      <td>886</td>\n",
       "      <td>886</td>\n",
       "      <td>886</td>\n",
       "      <td>886</td>\n",
       "      <td>886</td>\n",
       "      <td>886</td>\n",
       "    </tr>\n",
       "    <tr>\n",
       "      <th>Everton</th>\n",
       "      <td>1274</td>\n",
       "      <td>1274</td>\n",
       "      <td>1274</td>\n",
       "      <td>1274</td>\n",
       "      <td>1274</td>\n",
       "      <td>1274</td>\n",
       "      <td>1274</td>\n",
       "      <td>1274</td>\n",
       "      <td>1274</td>\n",
       "      <td>1274</td>\n",
       "    </tr>\n",
       "    <tr>\n",
       "      <th>Leicester City</th>\n",
       "      <td>1170</td>\n",
       "      <td>1170</td>\n",
       "      <td>1170</td>\n",
       "      <td>1170</td>\n",
       "      <td>1170</td>\n",
       "      <td>1170</td>\n",
       "      <td>1170</td>\n",
       "      <td>1170</td>\n",
       "      <td>1170</td>\n",
       "      <td>1170</td>\n",
       "    </tr>\n",
       "    <tr>\n",
       "      <th>Liverpool</th>\n",
       "      <td>1925</td>\n",
       "      <td>1925</td>\n",
       "      <td>1925</td>\n",
       "      <td>1925</td>\n",
       "      <td>1925</td>\n",
       "      <td>1925</td>\n",
       "      <td>1925</td>\n",
       "      <td>1925</td>\n",
       "      <td>1925</td>\n",
       "      <td>1925</td>\n",
       "    </tr>\n",
       "    <tr>\n",
       "      <th>Manchester City</th>\n",
       "      <td>1945</td>\n",
       "      <td>1945</td>\n",
       "      <td>1945</td>\n",
       "      <td>1945</td>\n",
       "      <td>1945</td>\n",
       "      <td>1945</td>\n",
       "      <td>1945</td>\n",
       "      <td>1945</td>\n",
       "      <td>1945</td>\n",
       "      <td>1945</td>\n",
       "    </tr>\n",
       "    <tr>\n",
       "      <th>Manchester Utd</th>\n",
       "      <td>1748</td>\n",
       "      <td>1748</td>\n",
       "      <td>1748</td>\n",
       "      <td>1748</td>\n",
       "      <td>1748</td>\n",
       "      <td>1748</td>\n",
       "      <td>1748</td>\n",
       "      <td>1748</td>\n",
       "      <td>1748</td>\n",
       "      <td>1748</td>\n",
       "    </tr>\n",
       "    <tr>\n",
       "      <th>Newcastle United</th>\n",
       "      <td>701</td>\n",
       "      <td>701</td>\n",
       "      <td>701</td>\n",
       "      <td>701</td>\n",
       "      <td>701</td>\n",
       "      <td>701</td>\n",
       "      <td>701</td>\n",
       "      <td>701</td>\n",
       "      <td>701</td>\n",
       "      <td>701</td>\n",
       "    </tr>\n",
       "    <tr>\n",
       "      <th>Norwich City</th>\n",
       "      <td>289</td>\n",
       "      <td>289</td>\n",
       "      <td>289</td>\n",
       "      <td>289</td>\n",
       "      <td>289</td>\n",
       "      <td>289</td>\n",
       "      <td>289</td>\n",
       "      <td>289</td>\n",
       "      <td>289</td>\n",
       "      <td>289</td>\n",
       "    </tr>\n",
       "    <tr>\n",
       "      <th>Sheffield United</th>\n",
       "      <td>508</td>\n",
       "      <td>508</td>\n",
       "      <td>508</td>\n",
       "      <td>508</td>\n",
       "      <td>508</td>\n",
       "      <td>508</td>\n",
       "      <td>508</td>\n",
       "      <td>508</td>\n",
       "      <td>508</td>\n",
       "      <td>508</td>\n",
       "    </tr>\n",
       "    <tr>\n",
       "      <th>Southampton</th>\n",
       "      <td>859</td>\n",
       "      <td>859</td>\n",
       "      <td>859</td>\n",
       "      <td>859</td>\n",
       "      <td>859</td>\n",
       "      <td>859</td>\n",
       "      <td>859</td>\n",
       "      <td>859</td>\n",
       "      <td>859</td>\n",
       "      <td>859</td>\n",
       "    </tr>\n",
       "    <tr>\n",
       "      <th>Tottenham</th>\n",
       "      <td>1761</td>\n",
       "      <td>1761</td>\n",
       "      <td>1761</td>\n",
       "      <td>1761</td>\n",
       "      <td>1761</td>\n",
       "      <td>1761</td>\n",
       "      <td>1761</td>\n",
       "      <td>1761</td>\n",
       "      <td>1761</td>\n",
       "      <td>1761</td>\n",
       "    </tr>\n",
       "    <tr>\n",
       "      <th>Watford</th>\n",
       "      <td>840</td>\n",
       "      <td>840</td>\n",
       "      <td>840</td>\n",
       "      <td>840</td>\n",
       "      <td>840</td>\n",
       "      <td>840</td>\n",
       "      <td>840</td>\n",
       "      <td>840</td>\n",
       "      <td>840</td>\n",
       "      <td>840</td>\n",
       "    </tr>\n",
       "    <tr>\n",
       "      <th>West Ham United</th>\n",
       "      <td>1103</td>\n",
       "      <td>1103</td>\n",
       "      <td>1103</td>\n",
       "      <td>1103</td>\n",
       "      <td>1103</td>\n",
       "      <td>1103</td>\n",
       "      <td>1103</td>\n",
       "      <td>1103</td>\n",
       "      <td>1103</td>\n",
       "      <td>1103</td>\n",
       "    </tr>\n",
       "    <tr>\n",
       "      <th>Wolverhampton Wanderers</th>\n",
       "      <td>928</td>\n",
       "      <td>928</td>\n",
       "      <td>928</td>\n",
       "      <td>928</td>\n",
       "      <td>928</td>\n",
       "      <td>928</td>\n",
       "      <td>928</td>\n",
       "      <td>928</td>\n",
       "      <td>928</td>\n",
       "      <td>928</td>\n",
       "    </tr>\n",
       "  </tbody>\n",
       "</table>\n",
       "</div>"
      ],
      "text/plain": [
       "                         Division  Level  Round  Player  Manager  Team  \\\n",
       "Club                                                                     \n",
       "Arsenal                      1640   1640   1640    1640     1640  1640   \n",
       "Aston Villa                   415    415    415     415      415   415   \n",
       "Bournemouth                   637    637    637     637      637   637   \n",
       "Brighton & Hove Albion        619    619    619     619      619   619   \n",
       "Burnley                       781    781    781     781      781   781   \n",
       "Chelsea                      1869   1869   1869    1869     1869  1869   \n",
       "Crystal Palace                886    886    886     886      886   886   \n",
       "Everton                      1274   1274   1274    1274     1274  1274   \n",
       "Leicester City               1170   1170   1170    1170     1170  1170   \n",
       "Liverpool                    1925   1925   1925    1925     1925  1925   \n",
       "Manchester City              1945   1945   1945    1945     1945  1945   \n",
       "Manchester Utd               1748   1748   1748    1748     1748  1748   \n",
       "Newcastle United              701    701    701     701      701   701   \n",
       "Norwich City                  289    289    289     289      289   289   \n",
       "Sheffield United              508    508    508     508      508   508   \n",
       "Southampton                   859    859    859     859      859   859   \n",
       "Tottenham                    1761   1761   1761    1761     1761  1761   \n",
       "Watford                       840    840    840     840      840   840   \n",
       "West Ham United              1103   1103   1103    1103     1103  1103   \n",
       "Wolverhampton Wanderers       928    928    928     928      928   928   \n",
       "\n",
       "                         Position  Amount  Success  Points Last Season  \n",
       "Club                                                                    \n",
       "Arsenal                      1640    1640     1640                1640  \n",
       "Aston Villa                   415     415      415                 415  \n",
       "Bournemouth                   637     637      637                 637  \n",
       "Brighton & Hove Albion        619     619      619                 619  \n",
       "Burnley                       781     781      781                 781  \n",
       "Chelsea                      1869    1869     1869                1869  \n",
       "Crystal Palace                886     886      886                 886  \n",
       "Everton                      1274    1274     1274                1274  \n",
       "Leicester City               1170    1170     1170                1170  \n",
       "Liverpool                    1925    1925     1925                1925  \n",
       "Manchester City              1945    1945     1945                1945  \n",
       "Manchester Utd               1748    1748     1748                1748  \n",
       "Newcastle United              701     701      701                 701  \n",
       "Norwich City                  289     289      289                 289  \n",
       "Sheffield United              508     508      508                 508  \n",
       "Southampton                   859     859      859                 859  \n",
       "Tottenham                    1761    1761     1761                1761  \n",
       "Watford                       840     840      840                 840  \n",
       "West Ham United              1103    1103     1103                1103  \n",
       "Wolverhampton Wanderers       928     928      928                 928  "
      ]
     },
     "execution_count": 8,
     "metadata": {},
     "output_type": "execute_result"
    }
   ],
   "source": [
    "df_bids.groupby(\"Club\").count()"
   ]
  },
  {
   "cell_type": "code",
   "execution_count": 10,
   "id": "opposed-travel",
   "metadata": {},
   "outputs": [],
   "source": [
    "# generate one hot encoded values using get_dummies\n",
    "df_bids_ohe = pd.get_dummies(df_bids, columns=[\"Club\"], prefix=[\"Club_is\"] )\n",
    "df_bids_ohe = pd.get_dummies(df_bids_ohe, columns=[\"Position\"], prefix=[\"Position_is\"] )"
   ]
  },
  {
   "cell_type": "code",
   "execution_count": 11,
   "id": "hired-institute",
   "metadata": {},
   "outputs": [
    {
     "data": {
      "text/plain": [
       "Index(['Level', 'Round', 'Amount', 'Success', 'Points Last Season',\n",
       "       'Club_is_Arsenal', 'Club_is_Aston Villa', 'Club_is_Bournemouth',\n",
       "       'Club_is_Brighton & Hove Albion', 'Club_is_Burnley', 'Club_is_Chelsea',\n",
       "       'Club_is_Crystal Palace', 'Club_is_Everton', 'Club_is_Leicester City',\n",
       "       'Club_is_Liverpool', 'Club_is_Manchester City',\n",
       "       'Club_is_Manchester Utd', 'Club_is_Newcastle United',\n",
       "       'Club_is_Norwich City', 'Club_is_Sheffield United',\n",
       "       'Club_is_Southampton', 'Club_is_Tottenham', 'Club_is_Watford',\n",
       "       'Club_is_West Ham United', 'Club_is_Wolverhampton Wanderers',\n",
       "       'Position_is_Defender', 'Position_is_Forward', 'Position_is_Goalkeeper',\n",
       "       'Position_is_Midfielder'],\n",
       "      dtype='object')"
      ]
     },
     "execution_count": 11,
     "metadata": {},
     "output_type": "execute_result"
    }
   ],
   "source": [
    "df_bids_ohe = df_bids_ohe._get_numeric_data()\n",
    "df_bids_ohe.columns"
   ]
  },
  {
   "cell_type": "code",
   "execution_count": 12,
   "id": "interior-management",
   "metadata": {},
   "outputs": [],
   "source": [
    "X_unscaled = df_bids_ohe.drop(columns='Success')\n",
    "y_data = df_bids_ohe['Success']"
   ]
  },
  {
   "cell_type": "code",
   "execution_count": 18,
   "id": "adjusted-today",
   "metadata": {},
   "outputs": [
    {
     "data": {
      "text/plain": [
       "(21898, 28)"
      ]
     },
     "execution_count": 18,
     "metadata": {},
     "output_type": "execute_result"
    }
   ],
   "source": [
    "from sklearn.preprocessing import StandardScaler\n",
    "\n",
    "scaler = StandardScaler()\n",
    "X_data = scaler.fit_transform(X_unscaled)\n",
    "X_data.shape"
   ]
  },
  {
   "cell_type": "code",
   "execution_count": 14,
   "id": "prospective-commodity",
   "metadata": {},
   "outputs": [
    {
     "data": {
      "text/plain": [
       "Index(['Level', 'Round', 'Amount', 'Points Last Season'], dtype='object')"
      ]
     },
     "execution_count": 14,
     "metadata": {},
     "output_type": "execute_result"
    }
   ],
   "source": [
    "X_reduced = X_unscaled.iloc[:,0:4]\n",
    "X_reduced.columns"
   ]
  },
  {
   "cell_type": "code",
   "execution_count": 17,
   "id": "circular-significance",
   "metadata": {},
   "outputs": [],
   "source": [
    "scaler = StandardScaler()\n",
    "X_reduced_data = scaler.fit_transform(X_reduced)"
   ]
  },
  {
   "cell_type": "markdown",
   "id": "hollow-joyce",
   "metadata": {},
   "source": [
    "# Do some ML!"
   ]
  },
  {
   "cell_type": "code",
   "execution_count": 20,
   "id": "threatened-albania",
   "metadata": {},
   "outputs": [],
   "source": [
    "from sklearn.model_selection import train_test_split\n",
    "from sklearn.metrics import accuracy_score"
   ]
  },
  {
   "cell_type": "markdown",
   "id": "neural-design",
   "metadata": {},
   "source": [
    "## knn classifier\n",
    "\n",
    "This seems to perform the best"
   ]
  },
  {
   "cell_type": "code",
   "execution_count": 41,
   "id": "satisfactory-middle",
   "metadata": {},
   "outputs": [
    {
     "data": {
      "text/plain": [
       "0.6828006088280061"
      ]
     },
     "execution_count": 41,
     "metadata": {},
     "output_type": "execute_result"
    }
   ],
   "source": [
    "from sklearn.neighbors import KNeighborsClassifier\n",
    "\n",
    "X_train, X_test, y_train, y_test = train_test_split(X_data, y_data, test_size=0.3)\n",
    "\n",
    "clf = KNeighborsClassifier()\n",
    "clf.fit(X_train,y_train) \n",
    "\n",
    "y_preds = clf.predict(X_test)  \n",
    "accuracy_score(y_test,y_preds)"
   ]
  },
  {
   "cell_type": "markdown",
   "id": "alternate-penalty",
   "metadata": {},
   "source": [
    "### How essential are the one hot encoded variables to the performance of knn?\n",
    "Run the classifier just with the original numeric variables"
   ]
  },
  {
   "cell_type": "code",
   "execution_count": 42,
   "id": "congressional-punch",
   "metadata": {},
   "outputs": [
    {
     "data": {
      "text/plain": [
       "0.6578386605783866"
      ]
     },
     "execution_count": 42,
     "metadata": {},
     "output_type": "execute_result"
    }
   ],
   "source": [
    "X_train, X_test, y_train, y_test = train_test_split(X_reduced_data, y_data, test_size=0.3)\n",
    "\n",
    "clf_reduced = KNeighborsClassifier()\n",
    "clf_reduced.fit(X_train,y_train) \n",
    "\n",
    "y_preds_reduced = clf_reduced.predict(X_test)  \n",
    "accuracy_score(y_test,y_preds_reduced)"
   ]
  },
  {
   "cell_type": "markdown",
   "id": "impressive-audio",
   "metadata": {},
   "source": [
    "It seems the classifier is able to make some use from them"
   ]
  },
  {
   "cell_type": "markdown",
   "id": "vital-munich",
   "metadata": {},
   "source": [
    "## Logistic Regression"
   ]
  },
  {
   "cell_type": "code",
   "execution_count": 48,
   "id": "alternate-australian",
   "metadata": {},
   "outputs": [
    {
     "data": {
      "text/plain": [
       "0.6537290715372908"
      ]
     },
     "execution_count": 48,
     "metadata": {},
     "output_type": "execute_result"
    }
   ],
   "source": [
    "from sklearn.linear_model import LogisticRegression\n",
    "\n",
    "X_train, X_test, y_train, y_test = train_test_split(X_data, y_data, test_size=0.3)\n",
    "\n",
    "clf2 = LogisticRegression()\n",
    "clf2.fit(X_train,y_train) \n",
    "\n",
    "y_preds2 = clf2.predict(X_test)  \n",
    "accuracy_score(y_test,y_preds2)"
   ]
  },
  {
   "cell_type": "markdown",
   "id": "proud-preparation",
   "metadata": {},
   "source": [
    "## Decision Tree"
   ]
  },
  {
   "cell_type": "code",
   "execution_count": 13,
   "id": "interior-perception",
   "metadata": {},
   "outputs": [
    {
     "data": {
      "text/plain": [
       "0.6537290715372908"
      ]
     },
     "execution_count": 13,
     "metadata": {},
     "output_type": "execute_result"
    }
   ],
   "source": [
    "from sklearn.tree import DecisionTreeClassifier\n",
    "\n",
    "X_train, X_test, y_train, y_test = train_test_split(X_unscaled, y_data, test_size=0.3)\n",
    "\n",
    "clf3 = DecisionTreeClassifier(max_depth = 3)\n",
    "clf3.fit(X_train,y_train) \n",
    "\n",
    "y_preds3 = clf3.predict(X_test)  \n",
    "accuracy_score(y_test,y_preds3)"
   ]
  },
  {
   "cell_type": "code",
   "execution_count": 14,
   "id": "indirect-observation",
   "metadata": {},
   "outputs": [
    {
     "data": {
      "image/svg+xml": [
       "<?xml version=\"1.0\" encoding=\"UTF-8\" standalone=\"no\"?>\r\n",
       "<!DOCTYPE svg PUBLIC \"-//W3C//DTD SVG 1.1//EN\"\r\n",
       " \"http://www.w3.org/Graphics/SVG/1.1/DTD/svg11.dtd\">\r\n",
       "<!-- Generated by graphviz version 2.38.0 (20140413.2041)\r\n",
       " -->\r\n",
       "<!-- Title: Tree Pages: 1 -->\r\n",
       "<svg width=\"1214pt\" height=\"433pt\"\r\n",
       " viewBox=\"0.00 0.00 1214.00 433.00\" xmlns=\"http://www.w3.org/2000/svg\" xmlns:xlink=\"http://www.w3.org/1999/xlink\">\r\n",
       "<g id=\"graph0\" class=\"graph\" transform=\"scale(1 1) rotate(0) translate(4 429)\">\r\n",
       "<title>Tree</title>\r\n",
       "<polygon fill=\"white\" stroke=\"none\" points=\"-4,4 -4,-429 1210,-429 1210,4 -4,4\"/>\r\n",
       "<!-- 0 -->\r\n",
       "<g id=\"node1\" class=\"node\"><title>0</title>\r\n",
       "<path fill=\"#fffdfc\" stroke=\"black\" d=\"M693.5,-425C693.5,-425 534.5,-425 534.5,-425 528.5,-425 522.5,-419 522.5,-413 522.5,-413 522.5,-354 522.5,-354 522.5,-348 528.5,-342 534.5,-342 534.5,-342 693.5,-342 693.5,-342 699.5,-342 705.5,-348 705.5,-354 705.5,-354 705.5,-413 705.5,-413 705.5,-419 699.5,-425 693.5,-425\"/>\r\n",
       "<text text-anchor=\"start\" x=\"530.5\" y=\"-409.8\" font-family=\"Helvetica,sans-Serif\" font-size=\"14.00\">Points Last Season ≤ 68.5</text>\r\n",
       "<text text-anchor=\"start\" x=\"585\" y=\"-394.8\" font-family=\"Helvetica,sans-Serif\" font-size=\"14.00\">gini = 0.5</text>\r\n",
       "<text text-anchor=\"start\" x=\"558\" y=\"-379.8\" font-family=\"Helvetica,sans-Serif\" font-size=\"14.00\">samples = 15328</text>\r\n",
       "<text text-anchor=\"start\" x=\"549\" y=\"-364.8\" font-family=\"Helvetica,sans-Serif\" font-size=\"14.00\">value = [7732, 7596]</text>\r\n",
       "<text text-anchor=\"start\" x=\"574.5\" y=\"-349.8\" font-family=\"Helvetica,sans-Serif\" font-size=\"14.00\">class = True</text>\r\n",
       "</g>\r\n",
       "<!-- 1 -->\r\n",
       "<g id=\"node2\" class=\"node\"><title>1</title>\r\n",
       "<path fill=\"#d5eaf9\" stroke=\"black\" d=\"M556,-306C556,-306 434,-306 434,-306 428,-306 422,-300 422,-294 422,-294 422,-235 422,-235 422,-229 428,-223 434,-223 434,-223 556,-223 556,-223 562,-223 568,-229 568,-235 568,-235 568,-294 568,-294 568,-300 562,-306 556,-306\"/>\r\n",
       "<text text-anchor=\"start\" x=\"448.5\" y=\"-290.8\" font-family=\"Helvetica,sans-Serif\" font-size=\"14.00\">Amount ≤ 0.25</text>\r\n",
       "<text text-anchor=\"start\" x=\"457.5\" y=\"-275.8\" font-family=\"Helvetica,sans-Serif\" font-size=\"14.00\">gini = 0.493</text>\r\n",
       "<text text-anchor=\"start\" x=\"439\" y=\"-260.8\" font-family=\"Helvetica,sans-Serif\" font-size=\"14.00\">samples = 11582</text>\r\n",
       "<text text-anchor=\"start\" x=\"430\" y=\"-245.8\" font-family=\"Helvetica,sans-Serif\" font-size=\"14.00\">value = [5104, 6478]</text>\r\n",
       "<text text-anchor=\"start\" x=\"452.5\" y=\"-230.8\" font-family=\"Helvetica,sans-Serif\" font-size=\"14.00\">class = False</text>\r\n",
       "</g>\r\n",
       "<!-- 0&#45;&gt;1 -->\r\n",
       "<g id=\"edge1\" class=\"edge\"><title>0&#45;&gt;1</title>\r\n",
       "<path fill=\"none\" stroke=\"black\" d=\"M572.714,-341.907C563.299,-332.651 553.211,-322.732 543.524,-313.209\"/>\r\n",
       "<polygon fill=\"black\" stroke=\"black\" points=\"545.798,-310.536 536.213,-306.021 540.89,-315.527 545.798,-310.536\"/>\r\n",
       "<text text-anchor=\"middle\" x=\"536.425\" y=\"-327.32\" font-family=\"Helvetica,sans-Serif\" font-size=\"14.00\">True</text>\r\n",
       "</g>\r\n",
       "<!-- 8 -->\r\n",
       "<g id=\"node9\" class=\"node\"><title>8</title>\r\n",
       "<path fill=\"#f0b78d\" stroke=\"black\" d=\"M795,-306C795,-306 673,-306 673,-306 667,-306 661,-300 661,-294 661,-294 661,-235 661,-235 661,-229 667,-223 673,-223 673,-223 795,-223 795,-223 801,-223 807,-229 807,-235 807,-235 807,-294 807,-294 807,-300 801,-306 795,-306\"/>\r\n",
       "<text text-anchor=\"start\" x=\"683.5\" y=\"-290.8\" font-family=\"Helvetica,sans-Serif\" font-size=\"14.00\">Amount ≤ 13.75</text>\r\n",
       "<text text-anchor=\"start\" x=\"696.5\" y=\"-275.8\" font-family=\"Helvetica,sans-Serif\" font-size=\"14.00\">gini = 0.419</text>\r\n",
       "<text text-anchor=\"start\" x=\"682.5\" y=\"-260.8\" font-family=\"Helvetica,sans-Serif\" font-size=\"14.00\">samples = 3746</text>\r\n",
       "<text text-anchor=\"start\" x=\"669\" y=\"-245.8\" font-family=\"Helvetica,sans-Serif\" font-size=\"14.00\">value = [2628, 1118]</text>\r\n",
       "<text text-anchor=\"start\" x=\"694.5\" y=\"-230.8\" font-family=\"Helvetica,sans-Serif\" font-size=\"14.00\">class = True</text>\r\n",
       "</g>\r\n",
       "<!-- 0&#45;&gt;8 -->\r\n",
       "<g id=\"edge8\" class=\"edge\"><title>0&#45;&gt;8</title>\r\n",
       "<path fill=\"none\" stroke=\"black\" d=\"M655.633,-341.907C665.127,-332.651 675.3,-322.732 685.068,-313.209\"/>\r\n",
       "<polygon fill=\"black\" stroke=\"black\" points=\"687.724,-315.508 692.44,-306.021 682.837,-310.496 687.724,-315.508\"/>\r\n",
       "<text text-anchor=\"middle\" x=\"692.124\" y=\"-327.319\" font-family=\"Helvetica,sans-Serif\" font-size=\"14.00\">False</text>\r\n",
       "</g>\r\n",
       "<!-- 2 -->\r\n",
       "<g id=\"node3\" class=\"node\"><title>2</title>\r\n",
       "<path fill=\"#fcf0e7\" stroke=\"black\" d=\"M290,-187C290,-187 168,-187 168,-187 162,-187 156,-181 156,-175 156,-175 156,-116 156,-116 156,-110 162,-104 168,-104 168,-104 290,-104 290,-104 296,-104 302,-110 302,-116 302,-116 302,-175 302,-175 302,-181 296,-187 290,-187\"/>\r\n",
       "<text text-anchor=\"start\" x=\"190\" y=\"-171.8\" font-family=\"Helvetica,sans-Serif\" font-size=\"14.00\">Round ≤ 7.5</text>\r\n",
       "<text text-anchor=\"start\" x=\"191.5\" y=\"-156.8\" font-family=\"Helvetica,sans-Serif\" font-size=\"14.00\">gini = 0.498</text>\r\n",
       "<text text-anchor=\"start\" x=\"177.5\" y=\"-141.8\" font-family=\"Helvetica,sans-Serif\" font-size=\"14.00\">samples = 6064</text>\r\n",
       "<text text-anchor=\"start\" x=\"164\" y=\"-126.8\" font-family=\"Helvetica,sans-Serif\" font-size=\"14.00\">value = [3226, 2838]</text>\r\n",
       "<text text-anchor=\"start\" x=\"189.5\" y=\"-111.8\" font-family=\"Helvetica,sans-Serif\" font-size=\"14.00\">class = True</text>\r\n",
       "</g>\r\n",
       "<!-- 1&#45;&gt;2 -->\r\n",
       "<g id=\"edge2\" class=\"edge\"><title>1&#45;&gt;2</title>\r\n",
       "<path fill=\"none\" stroke=\"black\" d=\"M421.962,-231.374C387.796,-216.346 346.952,-198.381 311.657,-182.856\"/>\r\n",
       "<polygon fill=\"black\" stroke=\"black\" points=\"312.899,-179.579 302.336,-178.757 310.081,-185.987 312.899,-179.579\"/>\r\n",
       "</g>\r\n",
       "<!-- 5 -->\r\n",
       "<g id=\"node6\" class=\"node\"><title>5</title>\r\n",
       "<path fill=\"#9fd0f2\" stroke=\"black\" d=\"M556,-187C556,-187 434,-187 434,-187 428,-187 422,-181 422,-175 422,-175 422,-116 422,-116 422,-110 428,-104 434,-104 434,-104 556,-104 556,-104 562,-104 568,-110 568,-116 568,-116 568,-175 568,-175 568,-181 562,-187 556,-187\"/>\r\n",
       "<text text-anchor=\"start\" x=\"456\" y=\"-171.8\" font-family=\"Helvetica,sans-Serif\" font-size=\"14.00\">Round ≤ 8.5</text>\r\n",
       "<text text-anchor=\"start\" x=\"457.5\" y=\"-156.8\" font-family=\"Helvetica,sans-Serif\" font-size=\"14.00\">gini = 0.449</text>\r\n",
       "<text text-anchor=\"start\" x=\"443.5\" y=\"-141.8\" font-family=\"Helvetica,sans-Serif\" font-size=\"14.00\">samples = 5518</text>\r\n",
       "<text text-anchor=\"start\" x=\"430\" y=\"-126.8\" font-family=\"Helvetica,sans-Serif\" font-size=\"14.00\">value = [1878, 3640]</text>\r\n",
       "<text text-anchor=\"start\" x=\"452.5\" y=\"-111.8\" font-family=\"Helvetica,sans-Serif\" font-size=\"14.00\">class = False</text>\r\n",
       "</g>\r\n",
       "<!-- 1&#45;&gt;5 -->\r\n",
       "<g id=\"edge5\" class=\"edge\"><title>1&#45;&gt;5</title>\r\n",
       "<path fill=\"none\" stroke=\"black\" d=\"M495,-222.907C495,-214.649 495,-205.864 495,-197.302\"/>\r\n",
       "<polygon fill=\"black\" stroke=\"black\" points=\"498.5,-197.021 495,-187.021 491.5,-197.021 498.5,-197.021\"/>\r\n",
       "</g>\r\n",
       "<!-- 3 -->\r\n",
       "<g id=\"node4\" class=\"node\"><title>3</title>\r\n",
       "<path fill=\"#f8decb\" stroke=\"black\" d=\"M134,-68C134,-68 12,-68 12,-68 6,-68 0,-62 0,-56 0,-56 0,-12 0,-12 0,-6 6,-0 12,-0 12,-0 134,-0 134,-0 140,-0 146,-6 146,-12 146,-12 146,-56 146,-56 146,-62 140,-68 134,-68\"/>\r\n",
       "<text text-anchor=\"start\" x=\"35.5\" y=\"-52.8\" font-family=\"Helvetica,sans-Serif\" font-size=\"14.00\">gini = 0.489</text>\r\n",
       "<text text-anchor=\"start\" x=\"21.5\" y=\"-37.8\" font-family=\"Helvetica,sans-Serif\" font-size=\"14.00\">samples = 4899</text>\r\n",
       "<text text-anchor=\"start\" x=\"8\" y=\"-22.8\" font-family=\"Helvetica,sans-Serif\" font-size=\"14.00\">value = [2816, 2083]</text>\r\n",
       "<text text-anchor=\"start\" x=\"33.5\" y=\"-7.8\" font-family=\"Helvetica,sans-Serif\" font-size=\"14.00\">class = True</text>\r\n",
       "</g>\r\n",
       "<!-- 2&#45;&gt;3 -->\r\n",
       "<g id=\"edge3\" class=\"edge\"><title>2&#45;&gt;3</title>\r\n",
       "<path fill=\"none\" stroke=\"black\" d=\"M170.911,-103.726C157.138,-94.0582 142.476,-83.767 128.807,-74.172\"/>\r\n",
       "<polygon fill=\"black\" stroke=\"black\" points=\"130.636,-71.1801 120.441,-68.2996 126.615,-76.9096 130.636,-71.1801\"/>\r\n",
       "</g>\r\n",
       "<!-- 4 -->\r\n",
       "<g id=\"node5\" class=\"node\"><title>4</title>\r\n",
       "<path fill=\"#a5d2f3\" stroke=\"black\" d=\"M282,-68C282,-68 176,-68 176,-68 170,-68 164,-62 164,-56 164,-56 164,-12 164,-12 164,-6 170,-0 176,-0 176,-0 282,-0 282,-0 288,-0 294,-6 294,-12 294,-12 294,-56 294,-56 294,-62 288,-68 282,-68\"/>\r\n",
       "<text text-anchor=\"start\" x=\"191.5\" y=\"-52.8\" font-family=\"Helvetica,sans-Serif\" font-size=\"14.00\">gini = 0.456</text>\r\n",
       "<text text-anchor=\"start\" x=\"177.5\" y=\"-37.8\" font-family=\"Helvetica,sans-Serif\" font-size=\"14.00\">samples = 1165</text>\r\n",
       "<text text-anchor=\"start\" x=\"172\" y=\"-22.8\" font-family=\"Helvetica,sans-Serif\" font-size=\"14.00\">value = [410, 755]</text>\r\n",
       "<text text-anchor=\"start\" x=\"186.5\" y=\"-7.8\" font-family=\"Helvetica,sans-Serif\" font-size=\"14.00\">class = False</text>\r\n",
       "</g>\r\n",
       "<!-- 2&#45;&gt;4 -->\r\n",
       "<g id=\"edge4\" class=\"edge\"><title>2&#45;&gt;4</title>\r\n",
       "<path fill=\"none\" stroke=\"black\" d=\"M229,-103.726C229,-95.5175 229,-86.8595 229,-78.56\"/>\r\n",
       "<polygon fill=\"black\" stroke=\"black\" points=\"232.5,-78.2996 229,-68.2996 225.5,-78.2996 232.5,-78.2996\"/>\r\n",
       "</g>\r\n",
       "<!-- 6 -->\r\n",
       "<g id=\"node7\" class=\"node\"><title>6</title>\r\n",
       "<path fill=\"#aad5f4\" stroke=\"black\" d=\"M446,-68C446,-68 324,-68 324,-68 318,-68 312,-62 312,-56 312,-56 312,-12 312,-12 312,-6 318,-0 324,-0 324,-0 446,-0 446,-0 452,-0 458,-6 458,-12 458,-12 458,-56 458,-56 458,-62 452,-68 446,-68\"/>\r\n",
       "<text text-anchor=\"start\" x=\"347.5\" y=\"-52.8\" font-family=\"Helvetica,sans-Serif\" font-size=\"14.00\">gini = 0.462</text>\r\n",
       "<text text-anchor=\"start\" x=\"333.5\" y=\"-37.8\" font-family=\"Helvetica,sans-Serif\" font-size=\"14.00\">samples = 4824</text>\r\n",
       "<text text-anchor=\"start\" x=\"320\" y=\"-22.8\" font-family=\"Helvetica,sans-Serif\" font-size=\"14.00\">value = [1748, 3076]</text>\r\n",
       "<text text-anchor=\"start\" x=\"342.5\" y=\"-7.8\" font-family=\"Helvetica,sans-Serif\" font-size=\"14.00\">class = False</text>\r\n",
       "</g>\r\n",
       "<!-- 5&#45;&gt;6 -->\r\n",
       "<g id=\"edge6\" class=\"edge\"><title>5&#45;&gt;6</title>\r\n",
       "<path fill=\"none\" stroke=\"black\" d=\"M454.04,-103.726C444.786,-94.5142 434.964,-84.7364 425.719,-75.5343\"/>\r\n",
       "<polygon fill=\"black\" stroke=\"black\" points=\"428.008,-72.8741 418.452,-68.2996 423.07,-77.8351 428.008,-72.8741\"/>\r\n",
       "</g>\r\n",
       "<!-- 7 -->\r\n",
       "<g id=\"node8\" class=\"node\"><title>7</title>\r\n",
       "<path fill=\"#67b4eb\" stroke=\"black\" d=\"M594,-68C594,-68 488,-68 488,-68 482,-68 476,-62 476,-56 476,-56 476,-12 476,-12 476,-6 482,-0 488,-0 488,-0 594,-0 594,-0 600,-0 606,-6 606,-12 606,-12 606,-56 606,-56 606,-62 600,-68 594,-68\"/>\r\n",
       "<text text-anchor=\"start\" x=\"503.5\" y=\"-52.8\" font-family=\"Helvetica,sans-Serif\" font-size=\"14.00\">gini = 0.304</text>\r\n",
       "<text text-anchor=\"start\" x=\"493.5\" y=\"-37.8\" font-family=\"Helvetica,sans-Serif\" font-size=\"14.00\">samples = 694</text>\r\n",
       "<text text-anchor=\"start\" x=\"484\" y=\"-22.8\" font-family=\"Helvetica,sans-Serif\" font-size=\"14.00\">value = [130, 564]</text>\r\n",
       "<text text-anchor=\"start\" x=\"498.5\" y=\"-7.8\" font-family=\"Helvetica,sans-Serif\" font-size=\"14.00\">class = False</text>\r\n",
       "</g>\r\n",
       "<!-- 5&#45;&gt;7 -->\r\n",
       "<g id=\"edge7\" class=\"edge\"><title>5&#45;&gt;7</title>\r\n",
       "<path fill=\"none\" stroke=\"black\" d=\"M512.129,-103.726C515.692,-95.2439 519.457,-86.2819 523.049,-77.7312\"/>\r\n",
       "<polygon fill=\"black\" stroke=\"black\" points=\"526.365,-78.8747 527.011,-68.2996 519.911,-76.1635 526.365,-78.8747\"/>\r\n",
       "</g>\r\n",
       "<!-- 9 -->\r\n",
       "<g id=\"node10\" class=\"node\"><title>9</title>\r\n",
       "<path fill=\"#eda877\" stroke=\"black\" d=\"M813.5,-187C813.5,-187 654.5,-187 654.5,-187 648.5,-187 642.5,-181 642.5,-175 642.5,-175 642.5,-116 642.5,-116 642.5,-110 648.5,-104 654.5,-104 654.5,-104 813.5,-104 813.5,-104 819.5,-104 825.5,-110 825.5,-116 825.5,-116 825.5,-175 825.5,-175 825.5,-181 819.5,-187 813.5,-187\"/>\r\n",
       "<text text-anchor=\"start\" x=\"650.5\" y=\"-171.8\" font-family=\"Helvetica,sans-Serif\" font-size=\"14.00\">Points Last Season ≤ 77.5</text>\r\n",
       "<text text-anchor=\"start\" x=\"696.5\" y=\"-156.8\" font-family=\"Helvetica,sans-Serif\" font-size=\"14.00\">gini = 0.362</text>\r\n",
       "<text text-anchor=\"start\" x=\"682.5\" y=\"-141.8\" font-family=\"Helvetica,sans-Serif\" font-size=\"14.00\">samples = 3114</text>\r\n",
       "<text text-anchor=\"start\" x=\"673\" y=\"-126.8\" font-family=\"Helvetica,sans-Serif\" font-size=\"14.00\">value = [2375, 739]</text>\r\n",
       "<text text-anchor=\"start\" x=\"694.5\" y=\"-111.8\" font-family=\"Helvetica,sans-Serif\" font-size=\"14.00\">class = True</text>\r\n",
       "</g>\r\n",
       "<!-- 8&#45;&gt;9 -->\r\n",
       "<g id=\"edge9\" class=\"edge\"><title>8&#45;&gt;9</title>\r\n",
       "<path fill=\"none\" stroke=\"black\" d=\"M734,-222.907C734,-214.649 734,-205.864 734,-197.302\"/>\r\n",
       "<polygon fill=\"black\" stroke=\"black\" points=\"737.5,-197.021 734,-187.021 730.5,-197.021 737.5,-197.021\"/>\r\n",
       "</g>\r\n",
       "<!-- 12 -->\r\n",
       "<g id=\"node13\" class=\"node\"><title>12</title>\r\n",
       "<path fill=\"#bddef6\" stroke=\"black\" d=\"M1046,-187C1046,-187 940,-187 940,-187 934,-187 928,-181 928,-175 928,-175 928,-116 928,-116 928,-110 934,-104 940,-104 940,-104 1046,-104 1046,-104 1052,-104 1058,-110 1058,-116 1058,-116 1058,-175 1058,-175 1058,-181 1052,-187 1046,-187\"/>\r\n",
       "<text text-anchor=\"start\" x=\"942.5\" y=\"-171.8\" font-family=\"Helvetica,sans-Serif\" font-size=\"14.00\">Amount ≤ 16.75</text>\r\n",
       "<text text-anchor=\"start\" x=\"959.5\" y=\"-156.8\" font-family=\"Helvetica,sans-Serif\" font-size=\"14.00\">gini = 0.48</text>\r\n",
       "<text text-anchor=\"start\" x=\"945.5\" y=\"-141.8\" font-family=\"Helvetica,sans-Serif\" font-size=\"14.00\">samples = 632</text>\r\n",
       "<text text-anchor=\"start\" x=\"936\" y=\"-126.8\" font-family=\"Helvetica,sans-Serif\" font-size=\"14.00\">value = [253, 379]</text>\r\n",
       "<text text-anchor=\"start\" x=\"950.5\" y=\"-111.8\" font-family=\"Helvetica,sans-Serif\" font-size=\"14.00\">class = False</text>\r\n",
       "</g>\r\n",
       "<!-- 8&#45;&gt;12 -->\r\n",
       "<g id=\"edge12\" class=\"edge\"><title>8&#45;&gt;12</title>\r\n",
       "<path fill=\"none\" stroke=\"black\" d=\"M807.18,-230.442C842.059,-214.686 883.707,-195.872 918.726,-180.053\"/>\r\n",
       "<polygon fill=\"black\" stroke=\"black\" points=\"920.273,-183.194 927.945,-175.888 917.391,-176.815 920.273,-183.194\"/>\r\n",
       "</g>\r\n",
       "<!-- 10 -->\r\n",
       "<g id=\"node11\" class=\"node\"><title>10</title>\r\n",
       "<path fill=\"#f6d3ba\" stroke=\"black\" d=\"M742,-68C742,-68 636,-68 636,-68 630,-68 624,-62 624,-56 624,-56 624,-12 624,-12 624,-6 630,-0 636,-0 636,-0 742,-0 742,-0 748,-0 754,-6 754,-12 754,-12 754,-56 754,-56 754,-62 748,-68 742,-68\"/>\r\n",
       "<text text-anchor=\"start\" x=\"651.5\" y=\"-52.8\" font-family=\"Helvetica,sans-Serif\" font-size=\"14.00\">gini = 0.478</text>\r\n",
       "<text text-anchor=\"start\" x=\"641.5\" y=\"-37.8\" font-family=\"Helvetica,sans-Serif\" font-size=\"14.00\">samples = 793</text>\r\n",
       "<text text-anchor=\"start\" x=\"632\" y=\"-22.8\" font-family=\"Helvetica,sans-Serif\" font-size=\"14.00\">value = [480, 313]</text>\r\n",
       "<text text-anchor=\"start\" x=\"649.5\" y=\"-7.8\" font-family=\"Helvetica,sans-Serif\" font-size=\"14.00\">class = True</text>\r\n",
       "</g>\r\n",
       "<!-- 9&#45;&gt;10 -->\r\n",
       "<g id=\"edge10\" class=\"edge\"><title>9&#45;&gt;10</title>\r\n",
       "<path fill=\"none\" stroke=\"black\" d=\"M717.244,-103.726C713.758,-95.2439 710.075,-86.2819 706.561,-77.7312\"/>\r\n",
       "<polygon fill=\"black\" stroke=\"black\" points=\"709.723,-76.2186 702.685,-68.2996 703.249,-78.8794 709.723,-76.2186\"/>\r\n",
       "</g>\r\n",
       "<!-- 11 -->\r\n",
       "<g id=\"node12\" class=\"node\"><title>11</title>\r\n",
       "<path fill=\"#eb9d66\" stroke=\"black\" d=\"M898,-68C898,-68 784,-68 784,-68 778,-68 772,-62 772,-56 772,-56 772,-12 772,-12 772,-6 778,-0 784,-0 784,-0 898,-0 898,-0 904,-0 910,-6 910,-12 910,-12 910,-56 910,-56 910,-62 904,-68 898,-68\"/>\r\n",
       "<text text-anchor=\"start\" x=\"812\" y=\"-52.8\" font-family=\"Helvetica,sans-Serif\" font-size=\"14.00\">gini = 0.3</text>\r\n",
       "<text text-anchor=\"start\" x=\"789.5\" y=\"-37.8\" font-family=\"Helvetica,sans-Serif\" font-size=\"14.00\">samples = 2321</text>\r\n",
       "<text text-anchor=\"start\" x=\"780\" y=\"-22.8\" font-family=\"Helvetica,sans-Serif\" font-size=\"14.00\">value = [1895, 426]</text>\r\n",
       "<text text-anchor=\"start\" x=\"801.5\" y=\"-7.8\" font-family=\"Helvetica,sans-Serif\" font-size=\"14.00\">class = True</text>\r\n",
       "</g>\r\n",
       "<!-- 9&#45;&gt;11 -->\r\n",
       "<g id=\"edge11\" class=\"edge\"><title>9&#45;&gt;11</title>\r\n",
       "<path fill=\"none\" stroke=\"black\" d=\"M773.843,-103.726C782.845,-94.5142 792.399,-84.7364 801.391,-75.5343\"/>\r\n",
       "<polygon fill=\"black\" stroke=\"black\" points=\"803.975,-77.898 808.461,-68.2996 798.968,-73.0057 803.975,-77.898\"/>\r\n",
       "</g>\r\n",
       "<!-- 13 -->\r\n",
       "<g id=\"node14\" class=\"node\"><title>13</title>\r\n",
       "<path fill=\"#fef8f4\" stroke=\"black\" d=\"M1046,-68C1046,-68 940,-68 940,-68 934,-68 928,-62 928,-56 928,-56 928,-12 928,-12 928,-6 934,-0 940,-0 940,-0 1046,-0 1046,-0 1052,-0 1058,-6 1058,-12 1058,-12 1058,-56 1058,-56 1058,-62 1052,-68 1046,-68\"/>\r\n",
       "<text text-anchor=\"start\" x=\"964\" y=\"-52.8\" font-family=\"Helvetica,sans-Serif\" font-size=\"14.00\">gini = 0.5</text>\r\n",
       "<text text-anchor=\"start\" x=\"945.5\" y=\"-37.8\" font-family=\"Helvetica,sans-Serif\" font-size=\"14.00\">samples = 270</text>\r\n",
       "<text text-anchor=\"start\" x=\"936\" y=\"-22.8\" font-family=\"Helvetica,sans-Serif\" font-size=\"14.00\">value = [139, 131]</text>\r\n",
       "<text text-anchor=\"start\" x=\"953.5\" y=\"-7.8\" font-family=\"Helvetica,sans-Serif\" font-size=\"14.00\">class = True</text>\r\n",
       "</g>\r\n",
       "<!-- 12&#45;&gt;13 -->\r\n",
       "<g id=\"edge13\" class=\"edge\"><title>12&#45;&gt;13</title>\r\n",
       "<path fill=\"none\" stroke=\"black\" d=\"M993,-103.726C993,-95.5175 993,-86.8595 993,-78.56\"/>\r\n",
       "<polygon fill=\"black\" stroke=\"black\" points=\"996.5,-78.2996 993,-68.2996 989.5,-78.2996 996.5,-78.2996\"/>\r\n",
       "</g>\r\n",
       "<!-- 14 -->\r\n",
       "<g id=\"node15\" class=\"node\"><title>14</title>\r\n",
       "<path fill=\"#94caf1\" stroke=\"black\" d=\"M1194,-68C1194,-68 1088,-68 1088,-68 1082,-68 1076,-62 1076,-56 1076,-56 1076,-12 1076,-12 1076,-6 1082,-0 1088,-0 1088,-0 1194,-0 1194,-0 1200,-0 1206,-6 1206,-12 1206,-12 1206,-56 1206,-56 1206,-62 1200,-68 1194,-68\"/>\r\n",
       "<text text-anchor=\"start\" x=\"1103.5\" y=\"-52.8\" font-family=\"Helvetica,sans-Serif\" font-size=\"14.00\">gini = 0.431</text>\r\n",
       "<text text-anchor=\"start\" x=\"1093.5\" y=\"-37.8\" font-family=\"Helvetica,sans-Serif\" font-size=\"14.00\">samples = 362</text>\r\n",
       "<text text-anchor=\"start\" x=\"1084\" y=\"-22.8\" font-family=\"Helvetica,sans-Serif\" font-size=\"14.00\">value = [114, 248]</text>\r\n",
       "<text text-anchor=\"start\" x=\"1098.5\" y=\"-7.8\" font-family=\"Helvetica,sans-Serif\" font-size=\"14.00\">class = False</text>\r\n",
       "</g>\r\n",
       "<!-- 12&#45;&gt;14 -->\r\n",
       "<g id=\"edge14\" class=\"edge\"><title>12&#45;&gt;14</title>\r\n",
       "<path fill=\"none\" stroke=\"black\" d=\"M1048.11,-103.726C1061.05,-94.1494 1074.82,-83.9611 1087.69,-74.4438\"/>\r\n",
       "<polygon fill=\"black\" stroke=\"black\" points=\"1090.04,-77.061 1095.99,-68.2996 1085.87,-71.4337 1090.04,-77.061\"/>\r\n",
       "</g>\r\n",
       "</g>\r\n",
       "</svg>\r\n"
      ],
      "text/plain": [
       "<graphviz.files.Source at 0x227f9475708>"
      ]
     },
     "execution_count": 14,
     "metadata": {},
     "output_type": "execute_result"
    }
   ],
   "source": [
    "from sklearn.tree import  export_graphviz\n",
    "import graphviz\n",
    "import os\n",
    "os.environ[\"PATH\"] += os.pathsep + 'C:/Program Files (x86)/Graphviz2.38/bin/'\n",
    "\n",
    "X_labels = X_unscaled.columns\n",
    "y_labels = y_data.unique().astype(str)\n",
    "\n",
    "dot_data = export_graphviz(clf3, out_file=None,\n",
    "                         filled=True, rounded=True,\n",
    "                        feature_names = X_labels,\n",
    "                        class_names = y_labels, \n",
    "                         special_characters=True)  \n",
    "graph = graphviz.Source(dot_data)  \n",
    "graph "
   ]
  },
  {
   "cell_type": "markdown",
   "id": "attached-culture",
   "metadata": {},
   "source": [
    "## Random Forest"
   ]
  },
  {
   "cell_type": "code",
   "execution_count": 33,
   "id": "martial-practitioner",
   "metadata": {},
   "outputs": [
    {
     "data": {
      "text/plain": [
       "0.7059360730593607"
      ]
     },
     "execution_count": 33,
     "metadata": {},
     "output_type": "execute_result"
    }
   ],
   "source": [
    "from sklearn.ensemble import RandomForestClassifier\n",
    "\n",
    "X_train, X_test, y_train, y_test = train_test_split(X_unscaled, y_data, test_size=0.3)\n",
    "\n",
    "clf3a = RandomForestClassifier(max_depth=10)\n",
    "clf3a.fit(X_train,y_train) \n",
    "\n",
    "y_preds3a = clf3a.predict(X_test)  \n",
    "accuracy_score(y_test,y_preds3a)"
   ]
  },
  {
   "cell_type": "markdown",
   "id": "developing-difference",
   "metadata": {},
   "source": [
    "### Random Forest omitting one hot variables"
   ]
  },
  {
   "cell_type": "code",
   "execution_count": 47,
   "id": "organizational-domestic",
   "metadata": {},
   "outputs": [
    {
     "data": {
      "text/plain": [
       "0.6550989345509893"
      ]
     },
     "execution_count": 47,
     "metadata": {},
     "output_type": "execute_result"
    }
   ],
   "source": [
    "X_train, X_test, y_train, y_test = train_test_split(X_reduced_data, y_data, test_size=0.3)\n",
    "\n",
    "clf3_reduced = RandomForestClassifier(max_depth=3)\n",
    "clf3_reduced.fit(X_train,y_train) \n",
    "\n",
    "y_preds3_reduced = clf3_reduced.predict(X_test)  \n",
    "accuracy_score(y_test,y_preds3_reduced)"
   ]
  },
  {
   "cell_type": "markdown",
   "id": "proud-royalty",
   "metadata": {},
   "source": [
    "It seems from the above tree and these results that the Random Forest is not able to make good use of the one hot encoded variables"
   ]
  },
  {
   "cell_type": "markdown",
   "id": "operational-auckland",
   "metadata": {},
   "source": [
    "## Gaussian Naive Bayes\n",
    "\n",
    "This works badly because one hot encoded variables clearly aren't gauss like"
   ]
  },
  {
   "cell_type": "code",
   "execution_count": 15,
   "id": "fluid-current",
   "metadata": {},
   "outputs": [
    {
     "data": {
      "text/plain": [
       "0.5942161339421613"
      ]
     },
     "execution_count": 15,
     "metadata": {},
     "output_type": "execute_result"
    }
   ],
   "source": [
    "from sklearn.naive_bayes import GaussianNB\n",
    "\n",
    "X_train, X_test, y_train, y_test = train_test_split(X_data, y_data, test_size=0.3)\n",
    "\n",
    "clf4 = GaussianNB()\n",
    "clf4.fit(X_train,y_train) \n",
    "\n",
    "y_preds4 = clf4.predict(X_test)  \n",
    "accuracy_score(y_test,y_preds4)"
   ]
  },
  {
   "cell_type": "markdown",
   "id": "existing-management",
   "metadata": {},
   "source": [
    "# Stupid approach - Guess all are failures"
   ]
  },
  {
   "cell_type": "code",
   "execution_count": 16,
   "id": "healthy-microphone",
   "metadata": {},
   "outputs": [
    {
     "data": {
      "text/plain": [
       "0.504292629463878"
      ]
     },
     "execution_count": 16,
     "metadata": {},
     "output_type": "execute_result"
    }
   ],
   "source": [
    "success_counts = df_bids['Success'].value_counts()\n",
    "success_counts[0]/success_counts.sum()"
   ]
  }
 ],
 "metadata": {
  "kernelspec": {
   "display_name": "Python 3",
   "language": "python",
   "name": "python3"
  },
  "language_info": {
   "codemirror_mode": {
    "name": "ipython",
    "version": 3
   },
   "file_extension": ".py",
   "mimetype": "text/x-python",
   "name": "python",
   "nbconvert_exporter": "python",
   "pygments_lexer": "ipython3",
   "version": "3.7.9"
  }
 },
 "nbformat": 4,
 "nbformat_minor": 5
}
