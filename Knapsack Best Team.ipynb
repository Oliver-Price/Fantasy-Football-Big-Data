{
 "cells": [
  {
   "cell_type": "code",
   "execution_count": null,
   "metadata": {},
   "outputs": [],
   "source": [
    "import pickle\n",
    "import pandas as pd\n",
    "import matplotlib.pyplot as plt\n",
    "from scipy import stats\n",
    "from IPython.core.display import HTML\n",
    "import datetime\n",
    "import numpy as np\n",
    "import numpy.ma as ma\n",
    "import os"
   ]
  },
  {
   "cell_type": "code",
   "execution_count": null,
   "metadata": {},
   "outputs": [],
   "source": [
    "#year = 18; w = 469\n",
    "year = 19; w = 543"
   ]
  },
  {
   "cell_type": "code",
   "execution_count": null,
   "metadata": {},
   "outputs": [],
   "source": [
    "save = os.getcwd()\n",
    "save = os.path.join(save,\"save\")\n",
    "save = os.path.join(save,str(year))\n",
    "save = os.path.join(save,'df_rich.pickle')\n",
    "\n",
    "with open(save, 'rb') as f:\n",
    "    df = pickle.load(f)"
   ]
  },
  {
   "cell_type": "code",
   "execution_count": null,
   "metadata": {},
   "outputs": [],
   "source": [
    "df = df.rename(columns={\"position\":\"Position\"})"
   ]
  },
  {
   "cell_type": "code",
   "execution_count": null,
   "metadata": {},
   "outputs": [],
   "source": [
    "clubdict = dict(zip(df[\"club\"].unique().tolist(),np.arange(20).tolist()))"
   ]
  },
  {
   "cell_type": "code",
   "execution_count": null,
   "metadata": {},
   "outputs": [],
   "source": [
    "clubdict"
   ]
  },
  {
   "cell_type": "markdown",
   "metadata": {},
   "source": [
    "## Random Guess"
   ]
  },
  {
   "cell_type": "code",
   "execution_count": null,
   "metadata": {},
   "outputs": [],
   "source": [
    "dfl = df.loc[:w]\n",
    "rnum = np.random.rand((dfl.shape[0]))\n",
    "dfl.insert(dfl.shape[1],\"rand\",rnum,True)\n",
    "goalies = dfl[dfl['Position'] == \"Goalkeeper\"]\n",
    "defenders = dfl[dfl['Position'] == \"Defender\"]\n",
    "midfielders = dfl[dfl['Position'] == \"Midfielder\"]\n",
    "forwards = dfl[dfl['Position'] == \"Forward\"]"
   ]
  },
  {
   "cell_type": "code",
   "execution_count": null,
   "metadata": {},
   "outputs": [],
   "source": [
    "randomteam = pd.concat([goalies.nlargest(1,\"rand\"),defenders.nlargest(4,\"rand\"),midfielders.nlargest(4,\"rand\"),forwards.nlargest(2,\"rand\")])"
   ]
  },
  {
   "cell_type": "code",
   "execution_count": null,
   "metadata": {},
   "outputs": [],
   "source": [
    "np.histogram(randomteam[\"club\"].map(clubdict))[0].max()"
   ]
  },
  {
   "cell_type": "code",
   "execution_count": null,
   "metadata": {},
   "outputs": [],
   "source": [
    "np.sum(randomteam['Highest R1 Bid']+0.5)"
   ]
  },
  {
   "cell_type": "code",
   "execution_count": null,
   "metadata": {},
   "outputs": [],
   "source": [
    "np.sum(randomteam['Points'])"
   ]
  },
  {
   "cell_type": "code",
   "execution_count": null,
   "metadata": {},
   "outputs": [],
   "source": [
    "bestrandomlist = []\n",
    "bestpointslist = []\n",
    "for m in range(10):\n",
    "    bestrandom = None\n",
    "    bestpoints = 0\n",
    "    for n in range(1000):\n",
    "        dfl = df.loc[:w]\n",
    "        rnum = np.random.rand((dfl.shape[0]))\n",
    "        dfl.insert(dfl.shape[1],\"rand\",rnum,True)\n",
    "        goalies = dfl[dfl['Position'] == \"Goalkeeper\"]\n",
    "        defenders = dfl[dfl['Position'] == \"Defender\"]\n",
    "        midfielders = dfl[dfl['Position'] == \"Midfielder\"]\n",
    "        forwards = dfl[dfl['Position'] == \"Forward\"]\n",
    "        randomteam = pd.concat([goalies.nlargest(1,\"rand\"),defenders.nlargest(4,\"rand\"),midfielders.nlargest(4,\"rand\"),forwards.nlargest(2,\"rand\")])\n",
    "        if np.histogram(randomteam[\"club\"].map(clubdict))[0].max() < 3:\n",
    "            if np.sum(randomteam['Highest R1 Bid']+0.5) <= 75:\n",
    "                if np.sum(randomteam['Points']) > bestpoints:\n",
    "                    bestrandom = randomteam\n",
    "                    bestpoints = np.sum(randomteam['Points'])\n",
    "    bestrandomlist.append(bestrandom)\n",
    "    bestpointslist.append(bestpoints)"
   ]
  },
  {
   "cell_type": "code",
   "execution_count": null,
   "metadata": {},
   "outputs": [],
   "source": [
    "allrands = bestrandomlist[0]\n",
    "for x in range(1,len(bestrandomlist)):\n",
    "    allrands = pd.concat([allrands,bestrandomlist[x]])"
   ]
  },
  {
   "cell_type": "code",
   "execution_count": null,
   "metadata": {},
   "outputs": [],
   "source": [
    "allrands[\"Name\"].unique().size"
   ]
  },
  {
   "cell_type": "code",
   "execution_count": null,
   "metadata": {},
   "outputs": [],
   "source": [
    "(max(bestpointslist) - min(bestpointslist))/sum(bestpointslist)*len(bestpointslist)*100"
   ]
  },
  {
   "cell_type": "markdown",
   "metadata": {},
   "source": [
    "## Dynamic Programming"
   ]
  },
  {
   "cell_type": "code",
   "execution_count": null,
   "metadata": {},
   "outputs": [],
   "source": [
    "items = df[['Name','Highest R1 Bid','Points']]\n",
    "items.Points = items.Points.astype(int)\n",
    "items['Highest R1 Bid'] = items['Highest R1 Bid'].astype(int)*2"
   ]
  },
  {
   "cell_type": "code",
   "execution_count": null,
   "metadata": {},
   "outputs": [],
   "source": [
    "def knapsack_pandas(items, limit):\n",
    "    table = np.zeros((items.shape[0]+1,limit+1),dtype=int)\n",
    " \n",
    "    for j in range(1, items.shape[0] + 1):\n",
    "        item, wt, val = items.iloc[j-1]\n",
    "        for w in range(1, limit + 1):\n",
    "            if wt > w:\n",
    "                table[j][w] = table[j-1][w]\n",
    "            else:\n",
    "                table[j][w] = max(table[j-1][w],\n",
    "                                  table[j-1][w-wt] + val)\n",
    " \n",
    "    result = pd.DataFrame(columns=['item','weight','value'])\n",
    "    \n",
    "    w = limit\n",
    "    for j in range(len(items), 0, -1):\n",
    "        was_added = table[j][w] != table[j-1][w]\n",
    " \n",
    "        if was_added:\n",
    "            item, wt, val = items.iloc[j-1]\n",
    "            result = result.append(items.iloc[j-1])\n",
    "            w -= wt\n",
    "            \n",
    "    return (result, table) "
   ]
  },
  {
   "cell_type": "code",
   "execution_count": null,
   "metadata": {},
   "outputs": [],
   "source": [
    "(bagged, table) = knapsack_pandas(items, 75)\n",
    "display(HTML(bagged.to_html()))"
   ]
  },
  {
   "cell_type": "markdown",
   "metadata": {},
   "source": [
    "## Linear Programming"
   ]
  },
  {
   "cell_type": "code",
   "execution_count": null,
   "metadata": {},
   "outputs": [],
   "source": [
    "from scipy.optimize import linprog\n",
    "dfl = df.iloc[0:w]"
   ]
  },
  {
   "cell_type": "code",
   "execution_count": null,
   "metadata": {},
   "outputs": [],
   "source": [
    "points = dfl['Points']\n",
    "cost = dfl['Highest R1 Bid']+0.5\n",
    "gk   = dfl['Position'].apply(lambda x: 1 if x == 'Goalkeeper' else 0)\n",
    "defe = dfl['Position'].apply(lambda x: 1 if x == 'Defender' else 0)\n",
    "mid  = dfl['Position'].apply(lambda x: 1 if x == 'Midfielder' else 0)\n",
    "stri = dfl['Position'].apply(lambda x: 1 if x == 'Forward' else 0)\n",
    "xi   = np.ones(dfl.shape[0])"
   ]
  },
  {
   "cell_type": "code",
   "execution_count": null,
   "metadata": {},
   "outputs": [],
   "source": [
    "A_upperbounds = np.array([cost])\n",
    "b_upperbounds = np.array([75])\n",
    "A_equality = np.array([gk, defe, mid, stri, xi])\n",
    "b_equality = np.array([1, 4, 4, 2, 11])\n",
    "bounds = [(0, 1) for x in range(dfl.shape[0])]"
   ]
  },
  {
   "cell_type": "code",
   "execution_count": null,
   "metadata": {},
   "outputs": [],
   "source": [
    "solution = linprog(\n",
    "    c=-points,\n",
    "    A_ub=A_upperbounds,\n",
    "    b_ub=b_upperbounds,\n",
    "    A_eq=A_equality,\n",
    "    b_eq=b_equality,\n",
    "    bounds=bounds\n",
    ")"
   ]
  },
  {
   "cell_type": "code",
   "execution_count": null,
   "metadata": {},
   "outputs": [],
   "source": [
    "dfs = dfl[solution.x>0.001]\n",
    "dfs"
   ]
  },
  {
   "cell_type": "code",
   "execution_count": null,
   "metadata": {},
   "outputs": [],
   "source": [
    "solution.x[solution.x>0.001]"
   ]
  },
  {
   "cell_type": "code",
   "execution_count": null,
   "metadata": {},
   "outputs": [],
   "source": [
    "dfs[['Name','Highest R1 Bid']]"
   ]
  },
  {
   "cell_type": "markdown",
   "metadata": {},
   "source": [
    "## Integrer Programming"
   ]
  },
  {
   "cell_type": "code",
   "execution_count": null,
   "metadata": {},
   "outputs": [],
   "source": [
    "from pulp import *\n",
    "dfi = df.iloc[0:w]"
   ]
  },
  {
   "cell_type": "code",
   "execution_count": null,
   "metadata": {},
   "outputs": [],
   "source": [
    "dfi.club.unique()"
   ]
  },
  {
   "cell_type": "code",
   "execution_count": null,
   "metadata": {},
   "outputs": [],
   "source": [
    "player = [dfi['Name'][i] for i in range(dfi.shape[0])]\n",
    "point = {dfi['Name'][i]: dfi['Points'][i] for i in range(dfi.shape[0])} \n",
    "cost = {dfi['Name'][i]: dfi['Highest R1 Bid'][i] + 0.5 for i in range(dfi.shape[0])}\n",
    "gk = {dfi['Name'][i]: 1 if dfi['Position'][i] == 'Goalkeeper' else 0 for i in range(dfi.shape[0])}\n",
    "defe = {dfi['Name'][i]: 1 if dfi['Position'][i] == 'Defender' else 0 for i in range(dfi.shape[0])}\n",
    "mid = {dfi['Name'][i]: 1 if dfi['Position'][i] == 'Midfielder' else 0 for i in range(dfi.shape[0])}\n",
    "stri = {dfi['Name'][i]: 1 if dfi['Position'][i] == 'Forward' else 0 for i in range(dfi.shape[0])}\n",
    "city = {dfi['Name'][i]: 1 if dfi['club'][i] == 'Manchester City' else 0 for i in range(dfi.shape[0])}\n",
    "pool = {dfi['Name'][i]: 1 if dfi['club'][i] == 'Liverpool' else 0 for i in range(dfi.shape[0])}\n",
    "chel = {dfi['Name'][i]: 1 if dfi['club'][i] == 'Chelsea' else 0 for i in range(dfi.shape[0])}\n",
    "arse = {dfi['Name'][i]: 1 if dfi['club'][i] == 'Arsenal' else 0 for i in range(dfi.shape[0])}\n",
    "tot = {dfi['Name'][i]: 1 if dfi['club'][i] == 'Tottenham' else 0 for i in range(dfi.shape[0])}\n",
    "utd = {dfi['Name'][i]: 1 if dfi['club'][i] == 'Manchester Utd' else 0 for i in range(dfi.shape[0])}\n",
    "bmo = {dfi['Name'][i]: 1 if dfi['club'][i] == 'Bournemouth' else 0 for i in range(dfi.shape[0])}\n",
    "lei = {dfi['Name'][i]: 1 if dfi['club'][i] == 'Leicester City' else 0 for i in range(dfi.shape[0])}\n",
    "xi = {dfi['Name'][i]: 1 for i in range(dfi.shape[0])}"
   ]
  },
  {
   "cell_type": "code",
   "execution_count": null,
   "metadata": {},
   "outputs": [],
   "source": [
    "prob = LpProblem(\"Fantasy Football\",LpMaximize)\n",
    "player_vars = LpVariable.dicts(\"Players\",player,0,1,LpBinary)\n",
    "\n",
    "# objective function\n",
    "prob += lpSum([point[i]*player_vars[i] for i in player]), \"Total Cost\"\n",
    "\n",
    "# constraint\n",
    "prob += lpSum([player_vars[i] for i in player]) == 11, \"Total 11 Players\"\n",
    "prob += lpSum([cost[i] * player_vars[i] for i in player]) <= 75.0, \"Total Cost\"\n",
    "prob += lpSum([gk[i] * player_vars[i] for i in player]) == 1, \"Only 1 GK\"\n",
    "prob += lpSum([defe[i] * player_vars[i] for i in player]) == 4, \"Less than 4 DEF\"\n",
    "prob += lpSum([mid[i] * player_vars[i] for i in player]) == 4, \"Less than 5 MID\"\n",
    "prob += lpSum([stri[i] * player_vars[i] for i in player]) == 2, \"Less than 3 STR\"\n",
    "\n",
    "# solve\n",
    "status = prob.solve()"
   ]
  },
  {
   "cell_type": "code",
   "execution_count": null,
   "metadata": {},
   "outputs": [],
   "source": [
    "names = []\n",
    "for v in prob.variables():\n",
    "    if v.varValue>0:\n",
    "        nv = v.name.split(\"_\")[1:]\n",
    "        if len(nv) > 2:\n",
    "            ln = \"-\".join(nv[-2:])\n",
    "            ln2 = \" \".join(nv[-2:])\n",
    "        else:\n",
    "            ln = nv[-1]\n",
    "        fn = nv[0]\n",
    "        if fn == ln:\n",
    "            names.append(fn)\n",
    "        else:\n",
    "            names.append(fn + \" \" + ln)\n",
    "            try:\n",
    "                names.append(fn + \" \" + ln2)\n",
    "            except:\n",
    "                pass\n",
    "names"
   ]
  },
  {
   "cell_type": "code",
   "execution_count": null,
   "metadata": {},
   "outputs": [],
   "source": [
    "df_select = dfi[dfi.Name.isin(names)]\n",
    "df_select"
   ]
  },
  {
   "cell_type": "code",
   "execution_count": null,
   "metadata": {
    "scrolled": true
   },
   "outputs": [],
   "source": [
    "df_select[\"Bought for\"] = df_select['Highest R1 Bid'] + 0.5\n",
    "df_select[[\"Name\",\"club\",\"Position\",\"Points\",\"Bought for\"]]"
   ]
  },
  {
   "cell_type": "code",
   "execution_count": null,
   "metadata": {},
   "outputs": [],
   "source": [
    "df_select.Points.sum()"
   ]
  },
  {
   "cell_type": "code",
   "execution_count": null,
   "metadata": {},
   "outputs": [],
   "source": [
    "df_select[\"Bought for\"].sum()"
   ]
  }
 ],
 "metadata": {
  "kernelspec": {
   "display_name": "Python 3",
   "language": "python",
   "name": "python3"
  },
  "language_info": {
   "codemirror_mode": {
    "name": "ipython",
    "version": 3
   },
   "file_extension": ".py",
   "mimetype": "text/x-python",
   "name": "python",
   "nbconvert_exporter": "python",
   "pygments_lexer": "ipython3",
   "version": "3.7.9"
  }
 },
 "nbformat": 4,
 "nbformat_minor": 2
}
