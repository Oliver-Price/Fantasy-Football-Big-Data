{
 "cells": [
  {
   "cell_type": "code",
   "execution_count": 6,
   "metadata": {},
   "outputs": [],
   "source": [
    "import requests\n",
    "from bs4 import BeautifulSoup\n",
    "import numpy as np\n",
    "import pandas as pd\n",
    "import pickle\n",
    "import os\n",
    "\n",
    "year = 19\n",
    "\n",
    "url_manlist = r'http://ff.bluebones.net/teams.php'\n",
    "\n",
    "ra_manlist = requests.get(url_manlist)\n",
    "soup_manlist = BeautifulSoup(ra_manlist.content, \"lxml\")\n",
    "table_manlist = soup_manlist.find_all('table')[0]\n",
    "\n",
    "table_rows = table_manlist.find_all('tr')\n",
    "\n",
    "divs = []\n",
    "teams = []\n",
    "managers = []\n",
    "\n",
    "for t in range(1,len(table_rows)):\n",
    "    row = table_rows[t].text.split(\"\\n\")\n",
    "    divs.append(row[1].strip(\" \"))\n",
    "    teams.append(row[2].strip(\" \"))\n",
    "    managers.append(row[3].strip(\" \"))\n",
    "    \n",
    "df = pd.DataFrame({'Manager': managers, 'Team': teams, 'Division': divs})\n",
    "\n",
    "save = os.getcwd()\n",
    "save = os.path.join(save,\"save\")\n",
    "save = os.path.join(save,str(year))\n",
    "save = os.path.join('manlist.pickle')\n",
    "\n",
    "with open (save, 'wb') as f:\n",
    "    pickle.dump(df, f)"
   ]
  }
 ],
 "metadata": {
  "kernelspec": {
   "display_name": "Python 3",
   "language": "python",
   "name": "python3"
  },
  "language_info": {
   "codemirror_mode": {
    "name": "ipython",
    "version": 3
   },
   "file_extension": ".py",
   "mimetype": "text/x-python",
   "name": "python",
   "nbconvert_exporter": "python",
   "pygments_lexer": "ipython3",
   "version": "3.6.8"
  }
 },
 "nbformat": 4,
 "nbformat_minor": 2
}
