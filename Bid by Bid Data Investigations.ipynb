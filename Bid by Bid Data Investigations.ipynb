{
 "cells": [
  {
   "cell_type": "code",
   "execution_count": 1,
   "metadata": {},
   "outputs": [],
   "source": [
    "import os\n",
    "import pandas as pd\n",
    "import matplotlib.pyplot as plt\n",
    "from scipy import stats\n",
    "from IPython.core.display import HTML\n",
    "import datetime\n",
    "import numpy as np\n",
    "import numpy.ma as ma\n",
    "import pickle\n",
    "import matplotlib.cm as cm"
   ]
  },
  {
   "cell_type": "code",
   "execution_count": 2,
   "metadata": {},
   "outputs": [],
   "source": [
    "#year = 18\n",
    "year = 19"
   ]
  },
  {
   "cell_type": "code",
   "execution_count": 3,
   "metadata": {},
   "outputs": [],
   "source": [
    "save = os.getcwd()\n",
    "save = os.path.join(save,\"save\")\n",
    "save = os.path.join(save,str(year))\n",
    "save = os.path.join(save,'allbids.pickle')\n",
    "\n",
    "with open(save, 'rb') as f:\n",
    "    df = pickle.load(f)"
   ]
  },
  {
   "cell_type": "code",
   "execution_count": 4,
   "metadata": {},
   "outputs": [
    {
     "data": {
      "text/plain": [
       "466"
      ]
     },
     "execution_count": 4,
     "metadata": {},
     "output_type": "execute_result"
    }
   ],
   "source": [
    "df.Player.unique().size"
   ]
  },
  {
   "cell_type": "code",
   "execution_count": 8,
   "metadata": {},
   "outputs": [
    {
     "data": {
      "text/html": [
       "<div>\n",
       "<style scoped>\n",
       "    .dataframe tbody tr th:only-of-type {\n",
       "        vertical-align: middle;\n",
       "    }\n",
       "\n",
       "    .dataframe tbody tr th {\n",
       "        vertical-align: top;\n",
       "    }\n",
       "\n",
       "    .dataframe thead th {\n",
       "        text-align: right;\n",
       "    }\n",
       "</style>\n",
       "<table border=\"1\" class=\"dataframe\">\n",
       "  <thead>\n",
       "    <tr style=\"text-align: right;\">\n",
       "      <th></th>\n",
       "      <th>Division</th>\n",
       "      <th>Level</th>\n",
       "      <th>Round</th>\n",
       "      <th>Player</th>\n",
       "      <th>Manager</th>\n",
       "      <th>Team</th>\n",
       "      <th>Position</th>\n",
       "      <th>Amount</th>\n",
       "      <th>Success</th>\n",
       "    </tr>\n",
       "  </thead>\n",
       "  <tbody>\n",
       "    <tr>\n",
       "      <th>3319</th>\n",
       "      <td>4a</td>\n",
       "      <td>4</td>\n",
       "      <td>1</td>\n",
       "      <td>Alisson</td>\n",
       "      <td>Colin Morris</td>\n",
       "      <td>Morris Dancers</td>\n",
       "      <td>Goalkeeper</td>\n",
       "      <td>7.5</td>\n",
       "      <td>True</td>\n",
       "    </tr>\n",
       "    <tr>\n",
       "      <th>3320</th>\n",
       "      <td>4a</td>\n",
       "      <td>4</td>\n",
       "      <td>1</td>\n",
       "      <td>Kepa Arrizabalaga</td>\n",
       "      <td>Paul Strange</td>\n",
       "      <td>The Magic Roundabout</td>\n",
       "      <td>Goalkeeper</td>\n",
       "      <td>7.0</td>\n",
       "      <td>True</td>\n",
       "    </tr>\n",
       "    <tr>\n",
       "      <th>3321</th>\n",
       "      <td>4a</td>\n",
       "      <td>4</td>\n",
       "      <td>1</td>\n",
       "      <td>Kepa Arrizabalaga</td>\n",
       "      <td>Grahame Flint</td>\n",
       "      <td>Murder on Zidane's Floor</td>\n",
       "      <td>Goalkeeper</td>\n",
       "      <td>0.0</td>\n",
       "      <td>False</td>\n",
       "    </tr>\n",
       "    <tr>\n",
       "      <th>3322</th>\n",
       "      <td>4a</td>\n",
       "      <td>4</td>\n",
       "      <td>1</td>\n",
       "      <td>David de Gea</td>\n",
       "      <td>Mitchell Crynes</td>\n",
       "      <td>Mitchacho</td>\n",
       "      <td>Goalkeeper</td>\n",
       "      <td>3.0</td>\n",
       "      <td>True</td>\n",
       "    </tr>\n",
       "    <tr>\n",
       "      <th>3323</th>\n",
       "      <td>4a</td>\n",
       "      <td>4</td>\n",
       "      <td>1</td>\n",
       "      <td>Martin Dubravka</td>\n",
       "      <td>Travis Dickinson</td>\n",
       "      <td>I Lied When I Was Seventeen</td>\n",
       "      <td>Goalkeeper</td>\n",
       "      <td>1.0</td>\n",
       "      <td>True</td>\n",
       "    </tr>\n",
       "    <tr>\n",
       "      <th>...</th>\n",
       "      <td>...</td>\n",
       "      <td>...</td>\n",
       "      <td>...</td>\n",
       "      <td>...</td>\n",
       "      <td>...</td>\n",
       "      <td>...</td>\n",
       "      <td>...</td>\n",
       "      <td>...</td>\n",
       "      <td>...</td>\n",
       "    </tr>\n",
       "    <tr>\n",
       "      <th>5483</th>\n",
       "      <td>4d</td>\n",
       "      <td>4</td>\n",
       "      <td>1</td>\n",
       "      <td>Jamie Vardy</td>\n",
       "      <td>Asa Bradshaw</td>\n",
       "      <td>ABCDE FC</td>\n",
       "      <td>Forward</td>\n",
       "      <td>0.0</td>\n",
       "      <td>False</td>\n",
       "    </tr>\n",
       "    <tr>\n",
       "      <th>5484</th>\n",
       "      <td>4d</td>\n",
       "      <td>4</td>\n",
       "      <td>1</td>\n",
       "      <td>Jamie Vardy</td>\n",
       "      <td>Simon Hutchinson</td>\n",
       "      <td>Hutchy's Heros</td>\n",
       "      <td>Forward</td>\n",
       "      <td>0.0</td>\n",
       "      <td>False</td>\n",
       "    </tr>\n",
       "    <tr>\n",
       "      <th>5485</th>\n",
       "      <td>4d</td>\n",
       "      <td>4</td>\n",
       "      <td>1</td>\n",
       "      <td>Wesley</td>\n",
       "      <td>Crusty Barnacles</td>\n",
       "      <td>The keys to Basseterre</td>\n",
       "      <td>Forward</td>\n",
       "      <td>2.0</td>\n",
       "      <td>True</td>\n",
       "    </tr>\n",
       "    <tr>\n",
       "      <th>5486</th>\n",
       "      <td>4d</td>\n",
       "      <td>4</td>\n",
       "      <td>1</td>\n",
       "      <td>Chris Wood</td>\n",
       "      <td>Mark Morcombe</td>\n",
       "      <td>Spanish Giants FC</td>\n",
       "      <td>Forward</td>\n",
       "      <td>5.5</td>\n",
       "      <td>True</td>\n",
       "    </tr>\n",
       "    <tr>\n",
       "      <th>5487</th>\n",
       "      <td>4d</td>\n",
       "      <td>4</td>\n",
       "      <td>1</td>\n",
       "      <td>Chris Wood</td>\n",
       "      <td>Linus Roja</td>\n",
       "      <td>Gunna Cost ya</td>\n",
       "      <td>Forward</td>\n",
       "      <td>0.5</td>\n",
       "      <td>False</td>\n",
       "    </tr>\n",
       "  </tbody>\n",
       "</table>\n",
       "<p>829 rows × 9 columns</p>\n",
       "</div>"
      ],
      "text/plain": [
       "     Division Level Round             Player           Manager  \\\n",
       "3319       4a     4     1            Alisson      Colin Morris   \n",
       "3320       4a     4     1  Kepa Arrizabalaga      Paul Strange   \n",
       "3321       4a     4     1  Kepa Arrizabalaga     Grahame Flint   \n",
       "3322       4a     4     1       David de Gea   Mitchell Crynes   \n",
       "3323       4a     4     1    Martin Dubravka  Travis Dickinson   \n",
       "...       ...   ...   ...                ...               ...   \n",
       "5483       4d     4     1        Jamie Vardy      Asa Bradshaw   \n",
       "5484       4d     4     1        Jamie Vardy  Simon Hutchinson   \n",
       "5485       4d     4     1             Wesley  Crusty Barnacles   \n",
       "5486       4d     4     1         Chris Wood     Mark Morcombe   \n",
       "5487       4d     4     1         Chris Wood        Linus Roja   \n",
       "\n",
       "                             Team    Position  Amount Success  \n",
       "3319               Morris Dancers  Goalkeeper     7.5    True  \n",
       "3320         The Magic Roundabout  Goalkeeper     7.0    True  \n",
       "3321     Murder on Zidane's Floor  Goalkeeper     0.0   False  \n",
       "3322                    Mitchacho  Goalkeeper     3.0    True  \n",
       "3323  I Lied When I Was Seventeen  Goalkeeper     1.0    True  \n",
       "...                           ...         ...     ...     ...  \n",
       "5483                     ABCDE FC     Forward     0.0   False  \n",
       "5484               Hutchy's Heros     Forward     0.0   False  \n",
       "5485       The keys to Basseterre     Forward     2.0    True  \n",
       "5486            Spanish Giants FC     Forward     5.5    True  \n",
       "5487                Gunna Cost ya     Forward     0.5   False  \n",
       "\n",
       "[829 rows x 9 columns]"
      ]
     },
     "execution_count": 8,
     "metadata": {},
     "output_type": "execute_result"
    }
   ],
   "source": [
    "dfa = df[df['Level'] == \"4\"]\n",
    "dfa = dfa[dfa['Round'] == 1]\n",
    "dfa"
   ]
  },
  {
   "cell_type": "code",
   "execution_count": 7,
   "metadata": {},
   "outputs": [],
   "source": [
    "spef_bids = df[df.Player==\"Pierre-Emeric Aubameyang\"].Amount"
   ]
  },
  {
   "cell_type": "code",
   "execution_count": 8,
   "metadata": {},
   "outputs": [
    {
     "data": {
      "text/plain": [
       "<BarContainer object of 70 artists>"
      ]
     },
     "execution_count": 8,
     "metadata": {},
     "output_type": "execute_result"
    },
    {
     "data": {
      "image/png": "[encoded data removed]",
      "text/plain": [
       "<Figure size 432x288 with 1 Axes>"
      ]
     },
     "metadata": {
      "needs_background": "light"
     },
     "output_type": "display_data"
    }
   ],
   "source": [
    "pmax = spef_bids.max()\n",
    "x = 0.01\n",
    "nums,bins = np.histogram(spef_bids, np.arange(0.5-x,pmax+1-x,0.5))\n",
    "vals = np.arange(0.5,pmax+0.5,0.5)\n",
    "c = cm.brg((vals%1)+0.5)\n",
    "plt.bar(vals,nums,width=0.4,color=c)"
   ]
  }
 ],
 "metadata": {
  "kernelspec": {
   "display_name": "Python 3",
   "language": "python",
   "name": "python3"
  },
  "language_info": {
   "codemirror_mode": {
    "name": "ipython",
    "version": 3
   },
   "file_extension": ".py",
   "mimetype": "text/x-python",
   "name": "python",
   "nbconvert_exporter": "python",
   "pygments_lexer": "ipython3",
   "version": "3.7.9"
  }
 },
 "nbformat": 4,
 "nbformat_minor": 2
}
